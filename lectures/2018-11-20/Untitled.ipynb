{
 "cells": [
  {
   "cell_type": "code",
   "execution_count": 7,
   "metadata": {},
   "outputs": [
    {
     "data": {
      "text/plain": [
       "4×5 Array{Int64,2}:\n",
       " 0  0  3  0  4\n",
       " 0  0  5  7  0\n",
       " 0  0  0  0  0\n",
       " 0  2  6  0  0"
      ]
     },
     "execution_count": 7,
     "metadata": {},
     "output_type": "execute_result"
    }
   ],
   "source": [
    "M = [0 0 3 0 4;          \n",
    "                        0 0 5 7 0;\n",
    "                        0 0 0 0 0;\n",
    "                        0 2 6 0 0]"
   ]
  },
  {
   "cell_type": "code",
   "execution_count": 8,
   "metadata": {},
   "outputs": [
    {
     "name": "stdout",
     "output_type": "stream",
     "text": [
      "search: \u001b[1ms\u001b[22m\u001b[1mp\u001b[22m\u001b[1ma\u001b[22m\u001b[1mr\u001b[22m\u001b[1ms\u001b[22m\u001b[1me\u001b[22m \u001b[1ms\u001b[22m\u001b[1mp\u001b[22m\u001b[1ma\u001b[22m\u001b[1mr\u001b[22m\u001b[1ms\u001b[22m\u001b[1me\u001b[22mvec \u001b[1mS\u001b[22m\u001b[1mp\u001b[22m\u001b[1ma\u001b[22m\u001b[1mr\u001b[22m\u001b[1ms\u001b[22m\u001b[1me\u001b[22mVector \u001b[1mS\u001b[22m\u001b[1mp\u001b[22m\u001b[1ma\u001b[22m\u001b[1mr\u001b[22m\u001b[1ms\u001b[22m\u001b[1me\u001b[22mArrays \u001b[1mS\u001b[22m\u001b[1mp\u001b[22m\u001b[1ma\u001b[22m\u001b[1mr\u001b[22m\u001b[1ms\u001b[22m\u001b[1me\u001b[22mMatrixCSC i\u001b[1ms\u001b[22ms\u001b[1mp\u001b[22m\u001b[1ma\u001b[22m\u001b[1mr\u001b[22m\u001b[1ms\u001b[22m\u001b[1me\u001b[22m\n",
      "\n"
     ]
    },
    {
     "data": {
      "text/markdown": [
       "```\n",
       "sparse(A)\n",
       "```\n",
       "\n",
       "Convert an AbstractMatrix `A` into a sparse matrix.\n",
       "\n",
       "# Example\n",
       "\n",
       "```jldoctest\n",
       "julia> A = eye(3)\n",
       "3×3 Array{Float64,2}:\n",
       " 1.0  0.0  0.0\n",
       " 0.0  1.0  0.0\n",
       " 0.0  0.0  1.0\n",
       "\n",
       "julia> sparse(A)\n",
       "3×3 SparseMatrixCSC{Float64,Int64} with 3 stored entries:\n",
       "  [1, 1]  =  1.0\n",
       "  [2, 2]  =  1.0\n",
       "  [3, 3]  =  1.0\n",
       "```\n",
       "\n",
       "```\n",
       "sparse(I, J, V,[ m, n, combine])\n",
       "```\n",
       "\n",
       "Create a sparse matrix `S` of dimensions `m x n` such that `S[I[k], J[k]] = V[k]`. The `combine` function is used to combine duplicates. If `m` and `n` are not specified, they are set to `maximum(I)` and `maximum(J)` respectively. If the `combine` function is not supplied, `combine` defaults to `+` unless the elements of `V` are Booleans in which case `combine` defaults to `|`. All elements of `I` must satisfy `1 <= I[k] <= m`, and all elements of `J` must satisfy `1 <= J[k] <= n`. Numerical zeros in (`I`, `J`, `V`) are retained as structural nonzeros; to drop numerical zeros, use [`dropzeros!`](@ref).\n",
       "\n",
       "For additional documentation and an expert driver, see `Base.SparseArrays.sparse!`.\n",
       "\n",
       "# Example\n",
       "\n",
       "```jldoctest\n",
       "julia> Is = [1; 2; 3];\n",
       "\n",
       "julia> Js = [1; 2; 3];\n",
       "\n",
       "julia> Vs = [1; 2; 3];\n",
       "\n",
       "julia> sparse(Is, Js, Vs)\n",
       "3×3 SparseMatrixCSC{Int64,Int64} with 3 stored entries:\n",
       "  [1, 1]  =  1\n",
       "  [2, 2]  =  2\n",
       "  [3, 3]  =  3\n",
       "```\n"
      ],
      "text/plain": [
       "```\n",
       "sparse(A)\n",
       "```\n",
       "\n",
       "Convert an AbstractMatrix `A` into a sparse matrix.\n",
       "\n",
       "# Example\n",
       "\n",
       "```jldoctest\n",
       "julia> A = eye(3)\n",
       "3×3 Array{Float64,2}:\n",
       " 1.0  0.0  0.0\n",
       " 0.0  1.0  0.0\n",
       " 0.0  0.0  1.0\n",
       "\n",
       "julia> sparse(A)\n",
       "3×3 SparseMatrixCSC{Float64,Int64} with 3 stored entries:\n",
       "  [1, 1]  =  1.0\n",
       "  [2, 2]  =  1.0\n",
       "  [3, 3]  =  1.0\n",
       "```\n",
       "\n",
       "```\n",
       "sparse(I, J, V,[ m, n, combine])\n",
       "```\n",
       "\n",
       "Create a sparse matrix `S` of dimensions `m x n` such that `S[I[k], J[k]] = V[k]`. The `combine` function is used to combine duplicates. If `m` and `n` are not specified, they are set to `maximum(I)` and `maximum(J)` respectively. If the `combine` function is not supplied, `combine` defaults to `+` unless the elements of `V` are Booleans in which case `combine` defaults to `|`. All elements of `I` must satisfy `1 <= I[k] <= m`, and all elements of `J` must satisfy `1 <= J[k] <= n`. Numerical zeros in (`I`, `J`, `V`) are retained as structural nonzeros; to drop numerical zeros, use [`dropzeros!`](@ref).\n",
       "\n",
       "For additional documentation and an expert driver, see `Base.SparseArrays.sparse!`.\n",
       "\n",
       "# Example\n",
       "\n",
       "```jldoctest\n",
       "julia> Is = [1; 2; 3];\n",
       "\n",
       "julia> Js = [1; 2; 3];\n",
       "\n",
       "julia> Vs = [1; 2; 3];\n",
       "\n",
       "julia> sparse(Is, Js, Vs)\n",
       "3×3 SparseMatrixCSC{Int64,Int64} with 3 stored entries:\n",
       "  [1, 1]  =  1\n",
       "  [2, 2]  =  2\n",
       "  [3, 3]  =  3\n",
       "```\n"
      ]
     },
     "execution_count": 8,
     "metadata": {},
     "output_type": "execute_result"
    }
   ],
   "source": [
    "?sparse"
   ]
  },
  {
   "cell_type": "code",
   "execution_count": 4,
   "metadata": {},
   "outputs": [
    {
     "ename": "LoadError",
     "evalue": "\u001b[91mArgumentError: Module SparseArray not found in current path.\nRun `Pkg.add(\"SparseArray\")` to install the SparseArray package.\u001b[39m",
     "output_type": "error",
     "traceback": [
      "\u001b[91mArgumentError: Module SparseArray not found in current path.\nRun `Pkg.add(\"SparseArray\")` to install the SparseArray package.\u001b[39m",
      "",
      "Stacktrace:",
      " [1] \u001b[1m_require\u001b[22m\u001b[22m\u001b[1m(\u001b[22m\u001b[22m::Symbol\u001b[1m)\u001b[22m\u001b[22m at \u001b[1m./loading.jl:435\u001b[22m\u001b[22m",
      " [2] \u001b[1mrequire\u001b[22m\u001b[22m\u001b[1m(\u001b[22m\u001b[22m::Symbol\u001b[1m)\u001b[22m\u001b[22m at \u001b[1m./loading.jl:405\u001b[22m\u001b[22m",
      " [3] \u001b[1minclude_string\u001b[22m\u001b[22m\u001b[1m(\u001b[22m\u001b[22m::String, ::String\u001b[1m)\u001b[22m\u001b[22m at \u001b[1m./loading.jl:522\u001b[22m\u001b[22m",
      " [4] \u001b[1mexecute_request\u001b[22m\u001b[22m\u001b[1m(\u001b[22m\u001b[22m::ZMQ.Socket, ::IJulia.Msg\u001b[1m)\u001b[22m\u001b[22m at \u001b[1m/Users/paoluzzi/.julia/v0.6/IJulia/src/execute_request.jl:193\u001b[22m\u001b[22m",
      " [5] \u001b[1m(::Compat.#inner#6{Array{Any,1},IJulia.#execute_request,Tuple{ZMQ.Socket,IJulia.Msg}})\u001b[22m\u001b[22m\u001b[1m(\u001b[22m\u001b[22m\u001b[1m)\u001b[22m\u001b[22m at \u001b[1m/Users/paoluzzi/.julia/v0.6/Compat/src/Compat.jl:189\u001b[22m\u001b[22m",
      " [6] \u001b[1meventloop\u001b[22m\u001b[22m\u001b[1m(\u001b[22m\u001b[22m::ZMQ.Socket\u001b[1m)\u001b[22m\u001b[22m at \u001b[1m/Users/paoluzzi/.julia/v0.6/IJulia/src/eventloop.jl:8\u001b[22m\u001b[22m",
      " [7] \u001b[1m(::IJulia.##13#16)\u001b[22m\u001b[22m\u001b[1m(\u001b[22m\u001b[22m\u001b[1m)\u001b[22m\u001b[22m at \u001b[1m./task.jl:335\u001b[22m\u001b[22m"
     ]
    }
   ],
   "source": [
    "using SparseArray"
   ]
  },
  {
   "cell_type": "code",
   "execution_count": 10,
   "metadata": {},
   "outputs": [
    {
     "name": "stdout",
     "output_type": "stream",
     "text": [
      "search: \u001b[1mS\u001b[22m\u001b[1mp\u001b[22m\u001b[1ma\u001b[22m\u001b[1mr\u001b[22m\u001b[1ms\u001b[22m\u001b[1me\u001b[22m\u001b[1mM\u001b[22m\u001b[1ma\u001b[22m\u001b[1mt\u001b[22m\u001b[1mr\u001b[22m\u001b[1mi\u001b[22m\u001b[1mx\u001b[22m\u001b[1mC\u001b[22m\u001b[1mS\u001b[22m\u001b[1mC\u001b[22m Ab\u001b[1ms\u001b[22mtractS\u001b[1mp\u001b[22m\u001b[1ma\u001b[22m\u001b[1mr\u001b[22m\u001b[1ms\u001b[22m\u001b[1me\u001b[22m\u001b[1mM\u001b[22m\u001b[1ma\u001b[22m\u001b[1mt\u001b[22m\u001b[1mr\u001b[22m\u001b[1mi\u001b[22m\u001b[1mx\u001b[22m\n",
      "\n"
     ]
    },
    {
     "data": {
      "text/markdown": [
       "```\n",
       "SparseMatrixCSC{Tv,Ti<:Integer} <: AbstractSparseMatrix{Tv,Ti}\n",
       "```\n",
       "\n",
       "Matrix type for storing sparse matrices in the [Compressed Sparse Column](@ref man-csc) format.\n"
      ],
      "text/plain": [
       "```\n",
       "SparseMatrixCSC{Tv,Ti<:Integer} <: AbstractSparseMatrix{Tv,Ti}\n",
       "```\n",
       "\n",
       "Matrix type for storing sparse matrices in the [Compressed Sparse Column](@ref man-csc) format.\n"
      ]
     },
     "execution_count": 10,
     "metadata": {},
     "output_type": "execute_result"
    }
   ],
   "source": [
    "?SparseMatrixCSC"
   ]
  },
  {
   "cell_type": "code",
   "execution_count": 18,
   "metadata": {},
   "outputs": [
    {
     "data": {
      "text/plain": [
       "100×100 SparseMatrixCSC{Int8,Int64} with 0 stored entries"
      ]
     },
     "execution_count": 18,
     "metadata": {},
     "output_type": "execute_result"
    }
   ],
   "source": [
    "A = convert(SparseMatrixCSC{Int8,Int64}, spzeros(100,100))"
   ]
  },
  {
   "cell_type": "code",
   "execution_count": 21,
   "metadata": {},
   "outputs": [
    {
     "data": {
      "text/plain": [
       "127"
      ]
     },
     "execution_count": 21,
     "metadata": {},
     "output_type": "execute_result"
    }
   ],
   "source": [
    "A[3,25]=127"
   ]
  },
  {
   "cell_type": "code",
   "execution_count": null,
   "metadata": {},
   "outputs": [],
   "source": []
  }
 ],
 "metadata": {
  "kernelspec": {
   "display_name": "Julia 0.6.4",
   "language": "julia",
   "name": "julia-0.6"
  },
  "language_info": {
   "file_extension": ".jl",
   "mimetype": "application/julia",
   "name": "julia",
   "version": "0.6.4"
  }
 },
 "nbformat": 4,
 "nbformat_minor": 2
}
