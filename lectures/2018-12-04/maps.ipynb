{
 "cells": [
  {
   "cell_type": "code",
   "execution_count": 1,
   "metadata": {},
   "outputs": [
    {
     "name": "stdout",
     "output_type": "stream",
     "text": [
      "Creating shared GLCanvas...\n",
      "shared GLCanvas created\n"
     ]
    },
    {
     "name": "stderr",
     "output_type": "stream",
     "text": [
      "WARNING: Method definition face_mapping(Any, Any, Any) in module LinearAlgebraicRepresentation at /Users/paoluzzi/.julia/v0.6/LinearAlgebraicRepresentation/src/./fragment_face.jl:96 overwritten at /Users/paoluzzi/.julia/v0.6/LinearAlgebraicRepresentation/src/./fragment_face.jl:116.\n",
      "WARNING: Method definition face_mapping(Any, Any, Any, Any) in module LinearAlgebraicRepresentation at /Users/paoluzzi/.julia/v0.6/LinearAlgebraicRepresentation/src/./fragment_face.jl:96 overwritten at /Users/paoluzzi/.julia/v0.6/LinearAlgebraicRepresentation/src/./fragment_face.jl:116.\n"
     ]
    }
   ],
   "source": [
    "using LinearAlgebraicRepresentation\n",
    "Lar = LinearAlgebraicRepresentation\n",
    "using Plasm"
   ]
  },
  {
   "cell_type": "code",
   "execution_count": 2,
   "metadata": {},
   "outputs": [
    {
     "data": {
      "text/plain": [
       "([0.0 0.0 … 20.0 20.0; 0.0 1.0 … 19.0 20.0], Array{Array{Int64,1},1}[Array{Int64,1}[[1], [2], [3], [4], [5], [6], [7], [8], [9], [10]  …  [432], [433], [434], [435], [436], [437], [438], [439], [440], [441]], Array{Int64,1}[[1, 2], [2, 3], [3, 4], [4, 5], [5, 6], [6, 7], [7, 8], [8, 9], [9, 10], [10, 11]  …  [411, 432], [412, 433], [413, 434], [414, 435], [415, 436], [416, 437], [417, 438], [418, 439], [419, 440], [420, 441]], Array{Int64,1}[[1, 2, 22, 23], [2, 3, 23, 24], [3, 4, 24, 25], [4, 5, 25, 26], [5, 6, 26, 27], [6, 7, 27, 28], [7, 8, 28, 29], [8, 9, 29, 30], [9, 10, 30, 31], [10, 11, 31, 32]  …  [410, 411, 431, 432], [411, 412, 432, 433], [412, 413, 433, 434], [413, 414, 434, 435], [414, 415, 435, 436], [415, 416, 436, 437], [416, 417, 437, 438], [417, 418, 438, 439], [418, 419, 439, 440], [419, 420, 440, 441]]])"
      ]
     },
     "execution_count": 2,
     "metadata": {},
     "output_type": "execute_result"
    }
   ],
   "source": [
    "nsamples = 20\n",
    "V,(VV,EV,FV) = Lar.cuboidGrid([nsamples,nsamples], true)"
   ]
  },
  {
   "cell_type": "code",
   "execution_count": 3,
   "metadata": {},
   "outputs": [
    {
     "name": "stdout",
     "output_type": "stream",
     "text": [
      "Building batches from Hpc....\n",
      "...done in 5 msec\n",
      "Optimizing the octree....\n",
      "   Number of input batches 840\n",
      "   total number vertices    512\n",
      "   Number of output batches 256\n",
      "   Batch vertex media       2\n",
      "...done in 1 msec\n",
      "Building octree from 256 batches....\n",
      "Scene number of nodes of the octree 341\n",
      "Scene max depth                     4\n",
      "Scene number of batches             256\n",
      "...done in 0 msec\n"
     ]
    },
    {
     "data": {
      "text/plain": [
       "PyObject <pyplasm.xgepy.Hpc; proxy of <Swig Object of type 'std::shared_ptr< Hpc > *' at 0x129a2f9c0> >"
      ]
     },
     "execution_count": 3,
     "metadata": {},
     "output_type": "execute_result"
    }
   ],
   "source": [
    "Plasm.view(V,EV)"
   ]
  },
  {
   "cell_type": "markdown",
   "metadata": {},
   "source": [
    "![grid](figs/maps.png)"
   ]
  },
  {
   "cell_type": "markdown",
   "metadata": {},
   "source": []
  }
 ],
 "metadata": {
  "kernelspec": {
   "display_name": "Julia 0.6.4",
   "language": "julia",
   "name": "julia-0.6"
  },
  "language_info": {
   "file_extension": ".jl",
   "mimetype": "application/julia",
   "name": "julia",
   "version": "0.6.4"
  }
 },
 "nbformat": 4,
 "nbformat_minor": 2
}
