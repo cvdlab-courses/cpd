{
 "cells": [
  {
   "cell_type": "markdown",
   "metadata": {},
   "source": [
    "$\\newcommand{\\E}{\\mathbb{E}}$\n",
    "$\\newcommand{\\R}{\\mathbb{R}}$\n",
    "$\\newcommand{\\Z}{\\mathbb{Z}}$\n",
    "$\\newcommand{\\N}{\\mathbb{N}}$\n",
    "$\\newcommand{\\v}[1]{\\textbf{#1}}$\n",
    "$\\newcommand{\\p}[1]{\\textbf{#1}}$\n",
    "$\\newcommand{\\T}[1]{\\textbf{#1}}$\n",
    "$\\newcommand{\\vet}[1]{{\\left(\\begin{array}{cccccccccccccccccccc}#1\\end{array}\\right)}}$\n",
    "$\\newcommand{\\mat}[1]{{\\left(\\begin{array}{cccccccccccccccccccccccccccc}#1\\end{array}\\right)}}$"
   ]
  },
  {
   "cell_type": "markdown",
   "metadata": {},
   "source": [
    "# Non uniform B-splines "
   ]
  },
  {
   "cell_type": "markdown",
   "metadata": {},
   "source": [
    "## Intro to splines\n",
    "\n",
    "A *spline function* of order $n$ is a *piecewise polynomial* function of degree \n",
    "$n-1$ in a variable $x$. \n",
    "\n",
    "The places where the pieces meet are known as **knots**. \n",
    "\n",
    "The key property of spline functions is that they and *their derivatives may be continuous*, depending on the *multiplicities* of the knots."
   ]
  },
  {
   "cell_type": "markdown",
   "metadata": {},
   "source": [
    "The B-splines discussed in this section are called **non-uniform**\n",
    "because different spline segments may correspond to different\n",
    "intervals in parameter space. \n",
    "\n",
    "The basis polynomials, and consequently the spline shape and the other\n",
    "properties, are defined by a **non-decreasing sequence** of reals\n",
    "\n",
    "$$\n",
    "t_0 \\leq t_1 \\leq\\cdots\\leq t_n,\n",
    "$$\n",
    "\n",
    "called the **knot sequence** "
   ]
  },
  {
   "cell_type": "markdown",
   "metadata": {},
   "source": [
    "# Geometric entities"
   ]
  },
  {
   "cell_type": "markdown",
   "metadata": {},
   "source": [
    "We recall the main inter-relationships among the 5 geometric\n",
    "entities that enter the definition."
   ]
  },
  {
   "cell_type": "markdown",
   "metadata": {},
   "source": [
    "### Control points\n",
    "\n",
    "are denoted as $\\p{p}_{i}$, \n",
    "with $0\\leq i\\leq m$.  A non-uniform B-spline usually approximates the control \n",
    "points. \n"
   ]
  },
  {
   "cell_type": "markdown",
   "metadata": {},
   "source": [
    "### Knot values \n",
    "\n",
    "are denoted as $t_{i}$, with $0\\leq i\\leq n$, and $t_{i-1} ≤ t_i$.  \n",
    "\n",
    "Knot values are used to define the B-spline polynomials. They also \n",
    "define the join points (or joints) between adjacent spline segments. \n",
    "When two consecutive knots coincide, the spline segment associated with \n",
    "their interval reduces to a point.\n",
    "\n",
    "The number $n+1$ of **knot values** is\n",
    "greater than the number $m+1$ of **control points** $\\p{p}_0, \\ldots,\n",
    "\\p{p}_m$.  "
   ]
  },
  {
   "cell_type": "markdown",
   "metadata": {},
   "source": [
    "### Spline degree\n",
    "\n",
    "is defined as the degree of the\n",
    "B-basis functions which are combined with the control points.  The\n",
    "degree is denoted as $k$.  \n",
    "\n",
    "In particular, the relation\n",
    "$$\n",
    "\tn = m+k+1 = m+h,\n",
    "$$\n",
    "where $k$ is the **degree** of spline segments, must hold between\n",
    "the number of knots and the number of control points.  The quantity $h\n",
    "= k+1$ is called the **order** of the spline.  \n",
    "\n",
    "The most used non-uniform B-splines are either cubic or quadratic.  The\n",
    "image of a linear non-uniform B-spline is a polygonal line.  The image of a\n",
    "non-uniform B-spline of degree $0$ coincides with the sequence of control\n",
    "points."
   ]
  },
  {
   "cell_type": "markdown",
   "metadata": {},
   "source": [
    "### B-basis polynomials\n",
    "\n",
    "The *normalized* B-basis polynomials are denoted as $N_{i,h}(t)$.  They are\n",
    "univariate polynomials in the $t$ indeterminate, computed through the de Boor formula.  \n",
    "\n",
    "$i$ is associated with\n",
    "the first value in the knot subsequence\n",
    "$(t_{i},t_{i+1},\\ldots,t_{i+h})$ used to compute $N_{i,h}(t)$.  \n",
    "\n",
    "$h$ is called **order** of the polynomial."
   ]
  },
  {
   "cell_type": "markdown",
   "metadata": {},
   "source": [
    "### Spline segments\n",
    "\n",
    "defined as polynomial vector functions\n",
    "of a single parameter.  Such functions are denoted as $\\p{C}_{i}(t)$,\n",
    "with $k\\leq i\\leq m$.  \n",
    "\n",
    "The $\\p{C}_{i}(t)$ **spline segment** is obtained by a\n",
    "combination of the $i$-th control point and the $k$ previous points\n",
    "with the basis polynomials of order $h$ associated to the same\n",
    "indices.  "
   ]
  },
  {
   "cell_type": "markdown",
   "metadata": {},
   "source": [
    "## B-spline curve definition"
   ]
  },
  {
   "cell_type": "markdown",
   "metadata": {},
   "source": [
    "$$\n",
    "\\p{C}(t) = \\sum_{i=0}^m \\p{p}_i N_{i,h}(t) \\qquad t_{min} ≤ t < t_{max} \\qquad 1 ≤ h ≤ n\n",
    "$$"
   ]
  },
  {
   "cell_type": "markdown",
   "metadata": {},
   "source": [
    "###  Cox & de Boor coefficients\n",
    "\n",
    "$$\n",
    "\\begin{eqnarray}\n",
    "N_{i,1} (t) &=& \n",
    "\\left\\{\n",
    "\\begin{array}{lll}\n",
    "1 & & \\mbox{if }\\quad t_i \\leq t < t_{i+1}\n",
    "\\\\\n",
    "0 & & \\mbox{otherwise }\n",
    "\\end{array}\n",
    "\\right.\n",
    "\\label{eq:deBoorCox}\n",
    "\\\\\n",
    "N_{i,h} (t)  &=& \n",
    "{ t-t_i\\over t_{i+h-1} -t_i }N_{i,h-1} (t)~+~\n",
    "{ t_{i+h}-t\\over t_{i+h} -t_{i+1} }N_{i+1,h-1} (t)\n",
    "\\nonumber\n",
    "\\end{eqnarray}\n",
    "$$\n"
   ]
  },
  {
   "cell_type": "markdown",
   "metadata": {},
   "source": [
    "### Relation between basis functions\n",
    "\n",
    "$$\n",
    "\\begin{array}{}\n",
    "\tN_{i,k}    \\\\\n",
    "\tN_{i, k-1} & N_{i+1, k-1}    \\\\\n",
    "\tN_{i, k-2} & N_{i+1, k-2} & N_{i+2, k-2}    \\\\\n",
    "\t\\vdots & \\vdots & \\vdots & \\vdots & \\vdots    \\\\\n",
    "\tN_{i,1} & N_{i+1,1} & N_{i+2,1} & N_{i+3,1} & ... & N_{i+h,1} \n",
    "\\end{array}\n",
    "$$"
   ]
  },
  {
   "cell_type": "markdown",
   "metadata": {},
   "source": [
    "#### Open B-spline: knot sequence generation \n",
    "\n",
    "From Rogers, NURBS book"
   ]
  },
  {
   "cell_type": "code",
   "execution_count": 1,
   "metadata": {},
   "outputs": [
    {
     "data": {
      "text/plain": [
       "1×8 RowVector{Float64,Array{Float64,1}}:\n",
       " 0.0  0.0  0.0  0.0  1.0  1.0  1.0  1.0"
      ]
     },
     "execution_count": 1,
     "metadata": {},
     "output_type": "execute_result"
    }
   ],
   "source": [
    "\"\"\"\n",
    "Function to generate a B-spline open knot vector with multiplicity k at the ends \n",
    "(see Sec. 3.3).\n",
    "c\t\t= order of the basis function\n",
    "n \t\t= the number of control polygon vertices\n",
    "nplus2 \t= index of x() for the first occurence of the maximum knot vector value\n",
    "nplusc \t= maximum value of the knot vector n + c\n",
    "x() \t= array containing the knot vector\n",
    "\"\"\"\n",
    "\n",
    "function knot(n::Int, c::Int) \n",
    "\tnplusc = n+c\n",
    "    x = Array{Float64}(nplusc)\n",
    "\tnplus2 = n+2\n",
    "\tx[1] = 0\n",
    "\tfor i = 2:nplusc\n",
    "\t\tif i > c && i < nplus2 \n",
    "\t\t\tx[i] = x[i-1] + 1\n",
    "\t\telse\n",
    "\t\t\tx[i] = x[i-1]\n",
    "\t\tend  \n",
    "\tend\n",
    "\treturn x\n",
    "end\n",
    "\n",
    "knot(4,4)'"
   ]
  },
  {
   "cell_type": "code",
   "execution_count": 2,
   "metadata": {},
   "outputs": [
    {
     "name": "stdout",
     "output_type": "stream",
     "text": [
      "number of polygon points? stdin> 8\n",
      "spline order? stdin> 3\n",
      "knot vector is [0.0, 0.0, 0.0, 1.0, 2.0, 3.0, 4.0, 5.0, 6.0, 6.0, 6.0]\n"
     ]
    }
   ],
   "source": [
    "include(\"./nurbslib.jl\")       \n",
    "\n",
    "x = zeros(Float64,22);\n",
    "n = parse(Int, input(\"number of polygon points? \"));\n",
    "c = parse(Int, input(\"spline order? \"));\n",
    "nplusc = n + c;\n",
    "\n",
    "try nplusc <= 21; \n",
    "\tx = knot(n,c);\n",
    "\tprint(\"knot vector is \", x[1:nplusc], \"\\n\");\n",
    "catch\n",
    "\tprint(\"Program limits exceeded. n+c = $(n+c) > 21.\\n\");\n",
    "\tprint(\"Knot vector not calculated.\\n\");\n",
    "end"
   ]
  },
  {
   "cell_type": "code",
   "execution_count": 3,
   "metadata": {},
   "outputs": [
    {
     "name": "stdout",
     "output_type": "stream",
     "text": [
      "(knot(4, 4))' = [0.0 0.0 0.0 0.0 1.0 1.0 1.0 1.0]\n"
     ]
    }
   ],
   "source": [
    "@show knot(4,4)';"
   ]
  },
  {
   "cell_type": "code",
   "execution_count": 4,
   "metadata": {},
   "outputs": [
    {
     "name": "stdout",
     "output_type": "stream",
     "text": [
      "(knot(8, 4))' = [0.0 0.0 0.0 0.0 1.0 2.0 3.0 4.0 5.0 5.0 5.0 5.0]\n"
     ]
    }
   ],
   "source": [
    "@show knot(8,4)';"
   ]
  },
  {
   "cell_type": "markdown",
   "metadata": {},
   "source": [
    "#### Open B-spline: basis functions generation\n",
    "\n",
    "From Rogers, NURBS book"
   ]
  },
  {
   "cell_type": "code",
   "execution_count": 5,
   "metadata": {},
   "outputs": [
    {
     "data": {
      "text/plain": [
       "basis (generic function with 1 method)"
      ]
     },
     "execution_count": 5,
     "metadata": {},
     "output_type": "execute_result"
    }
   ],
   "source": [
    "function basis(c,t,npts,x)\n",
    "\ttemp = Array{Float64}(20)\n",
    "\tnplusc = npts+c\n",
    "\n",
    "\t# calculate the first-order basis functions N_i,1 (see Eq. (3.2a))\n",
    "\tfor i = 1:nplusc-1\n",
    "\t\tif t >= x[i] && t < x[i+1] \n",
    "\t\t\ttemp[i] = 1 \n",
    "\t\telse\n",
    "\t\t\ttemp[i] = 0 \n",
    "\t\tend \n",
    "\tend\n",
    "\n",
    "\t# calculate the higher-order basis functions (see Eq. (3.2b))\n",
    "\tfor k = 2:c\n",
    "\t\tfor i = 1:nplusc-k\n",
    "\t\t\tif temp[i] ≠ 0  \t# if basis function is zero skip the calculation \n",
    "\t\t\t\td = ((t-x[i]) * temp[i])/(x[i+k-1]-x[i])\n",
    "\t\t\telse\n",
    "\t\t\t\td = 0\n",
    "\t\t\tend \n",
    "\t\t\tif temp[i+1] ≠ 0    # if basis function is zero skip the calculation\n",
    "\t\t\t\te = ((x[i+k]-t) * temp[i+1])/(x[i+k]-x[i+1]) \n",
    "\t\t\telse\n",
    "\t\t\t\te = 0 \n",
    "\t\t\tend \n",
    "\t\t\ttemp[i] = d + e \n",
    "\t\tend\n",
    "\tend\n",
    "\tif t == x[nplusc] \t# pick up last point\n",
    "\t\ttemp[npts] = 1 \n",
    "\tend\n",
    "\n",
    "\t# put in n array\n",
    "\tfor i = 1:npts \n",
    "\t\tn[1,i] = temp[i]\n",
    "\tend\n",
    "\tif t == x[nplusc] \t# pick up last point\n",
    "\t\tn[1,npts] = 1 \t\n",
    "\tend\n",
    "\treturn n[1,1:npts]\n",
    "end"
   ]
  },
  {
   "cell_type": "markdown",
   "metadata": {},
   "source": [
    "#### Non recurvive evaluation of $N_{i,h}$ for given $t$ value\n",
    "\n",
    "From Rogers, NURBS book"
   ]
  },
  {
   "cell_type": "code",
   "execution_count": 9,
   "metadata": {},
   "outputs": [
    {
     "name": "stdout",
     "output_type": "stream",
     "text": [
      "number of polygon points? stdin> 12\n",
      "spline order? stdin> 3\n",
      "knot vector is [0.0, 0.0, 0.0, 1.0, 2.0, 3.0, 4.0, 5.0, 6.0, 7.0, 8.0, 9.0, 10.0, 10.0, 10.0]\n",
      "\n",
      "parameter value t? (ENTER to end) stdin> 0.5\n",
      "t = 0.5\n",
      "Basis function is [0.25, 0.625, 0.125, 0.0, 0.0, 0.0, 0.0, 0.0, 0.0, 0.0, 0.0, 0.0]\n",
      " Sum of the Basis functions is 1.0 \n",
      "parameter value t? (ENTER to end) stdin> \n",
      "t is outside the parameter range, program ends \n"
     ]
    }
   ],
   "source": [
    "include(\"./nurbslib.jl\")       \n",
    "\n",
    "npts = parse(Int, input(\"number of polygon points? \"));\n",
    "c = parse(Int, input(\"spline order? \"));\n",
    "\t\n",
    "n = zeros(Float64,1,20);\n",
    "\n",
    "t = 0.0\n",
    "nplusc = npts + c;\n",
    "x = knot(npts,c);\n",
    "print(\"knot vector is \", x[1:nplusc], \"\\n\\n\");\n",
    "\t\t\n",
    "\t\n",
    "while(( t >= 0.) && (t <= x[nplusc]::Float64))\n",
    "\ttry\n",
    "\t\tt = parse(Float64, input(\"parameter value t? (ENTER to end) \"));\n",
    "\tcatch\n",
    "\t\tbreak\n",
    "\tend\n",
    "\tprint(\"t = $(t)\\n\");\n",
    "\tn[1,1:npts] = basis(c,t,npts,x);\n",
    "\tprint(\"Basis function is $(n[1,1:npts])\\n \");\n",
    "\t\n",
    "\tsum = 0.0\n",
    "\tfor i = 1:npts\n",
    "\t\tsum = sum + n[1,i];\n",
    "\tend\n",
    "\tprint(\"Sum of the Basis functions is $(sum) \\n\");\n",
    "end\n",
    "print(\"t is outside the parameter range, program ends \\n\");"
   ]
  },
  {
   "cell_type": "markdown",
   "metadata": {},
   "source": [
    "### de Boor coefficients (recursive evaluation)\n",
    "\n",
    "From pyplasm package and GP4CAD book, Paoluzzi"
   ]
  },
  {
   "cell_type": "code",
   "execution_count": 21,
   "metadata": {},
   "outputs": [
    {
     "data": {
      "text/plain": [
       "1"
      ]
     },
     "execution_count": 21,
     "metadata": {},
     "output_type": "execute_result"
    }
   ],
   "source": [
    "T = [0.0 0.0 0.0 0.0 1.0 1.0 1.0 1.0]\n",
    "tmax = 1"
   ]
  },
  {
   "cell_type": "code",
   "execution_count": 22,
   "metadata": {},
   "outputs": [
    {
     "data": {
      "text/plain": [
       "N (generic function with 2 methods)"
      ]
     },
     "execution_count": 22,
     "metadata": {},
     "output_type": "execute_result"
    }
   ],
   "source": [
    "function N(i,k,t)\n",
    "\n",
    "    # Ni1(t)\n",
    "    if k==1\n",
    "        # i uses strict inclusion for the max value\n",
    "        if (t≥T[i] && t<T[i+1]) || (t==tmax && t≥T[i] && t≤T[i+1])\n",
    "            return 1\n",
    "        else\n",
    "            return 0\n",
    "        end\n",
    "    end\n",
    "\n",
    "    # Nik(t)\n",
    "    ret=0\n",
    "\n",
    "    num1,div1 = t-T[i], T[i+k-1]-T[i]  \n",
    "    if div1 != 0 ret+=(num1/div1) * N(i,k-1,t) end\n",
    "\n",
    "    num2,div2=T[i+k]-t, T[i+k]-T[i+1]\n",
    "    if div2 != 0 ret+=(num2/div2) * N(i+1,k-1,t) end\n",
    "\n",
    "    return ret\n",
    "end"
   ]
  },
  {
   "cell_type": "code",
   "execution_count": 23,
   "metadata": {},
   "outputs": [
    {
     "name": "stdout",
     "output_type": "stream",
     "text": [
      "N(i, 4, 0.5) = 0.125\n",
      "N(i, 4, 0.5) = 0.375\n",
      "N(i, 4, 0.5) = 0.375\n",
      "N(i, 4, 0.5) = 0.125\n"
     ]
    }
   ],
   "source": [
    "for i=1:4 @show N(i,4,0.5) end"
   ]
  },
  {
   "cell_type": "markdown",
   "metadata": {},
   "source": [
    "### Graph of open non-uniform B-spline bases"
   ]
  },
  {
   "cell_type": "code",
   "execution_count": 4,
   "metadata": {},
   "outputs": [
    {
     "name": "stdout",
     "output_type": "stream",
     "text": [
      "Creating shared GLCanvas...\n",
      "shared GLCanvas created\n"
     ]
    },
    {
     "data": {
      "text/plain": [
       "LinearAlgebraicRepresentation"
      ]
     },
     "execution_count": 4,
     "metadata": {},
     "output_type": "execute_result"
    }
   ],
   "source": [
    "using LinearAlgebraicRepresentation\n",
    "using Plasm\n",
    "Lar = LinearAlgebraicRepresentation"
   ]
  },
  {
   "cell_type": "code",
   "execution_count": 14,
   "metadata": {},
   "outputs": [
    {
     "data": {
      "text/plain": [
       "N (generic function with 2 methods)"
      ]
     },
     "execution_count": 14,
     "metadata": {},
     "output_type": "execute_result"
    }
   ],
   "source": [
    "function N(i,k)\n",
    "    t = (x -> x)\n",
    "    mappedvert = (t, N(i,k,t))\n",
    "    return mappedvert\n",
    "end"
   ]
  },
  {
   "cell_type": "code",
   "execution_count": 24,
   "metadata": {},
   "outputs": [
    {
     "name": "stdout",
     "output_type": "stream",
     "text": [
      "Building batches from Hpc....\n",
      "...done in 0 msec\n",
      "Optimizing the octree....\n",
      "   Number of input batches 128\n",
      "   total number vertices    156\n",
      "   Number of output batches 78\n",
      "   Batch vertex media       2\n",
      "...done in 0 msec\n",
      "Building octree from 78 batches....\n",
      "Scene number of nodes of the octree 131\n",
      "Scene max depth                     4\n",
      "Scene number of batches             78\n",
      "...done in 0 msec\n"
     ]
    }
   ],
   "source": [
    "basisgraph = PyCall.PyObject[]\n",
    "V,EV = Lar.cuboidGrid([32])\n",
    "V = V./32\n",
    "for i=1:4\n",
    "    W = hcat(map(u->[u; N(i,4,u)], V)...)\n",
    "    push!(basisgraph, Plasm.lar2hpc(W,EV))\n",
    "end\n",
    "using PyCall\n",
    "@pyimport pyplasm as p\n",
    "p.VIEW(p.STRUCT(basisgraph));"
   ]
  },
  {
   "cell_type": "markdown",
   "metadata": {},
   "source": [
    "## Open B-spline\n",
    "\n",
    "### Curve generation"
   ]
  },
  {
   "cell_type": "code",
   "execution_count": 25,
   "metadata": {},
   "outputs": [
    {
     "data": {
      "text/plain": [
       "bspline (generic function with 1 method)"
      ]
     },
     "execution_count": 25,
     "metadata": {},
     "output_type": "execute_result"
    }
   ],
   "source": [
    "function bspline(npts::Int, k::Int, p1::Int, b::Array{Float64,2})\n",
    "\n",
    "\t# zero and dimension the knot vector and the basis array\n",
    "\t\n",
    "\tnplusc = npts + k\n",
    "\tx = knot(npts,k)\n",
    "\tp = zeros(3, p1*length(x))::Array{Float64,2}\n",
    "\ttemp = zeros(1,3)\n",
    "\n",
    "\t# generate the uniform open knot vector\n",
    "\n",
    "\ticount = 0\n",
    "\n",
    "\t# calculate the points on the B-spline curve\n",
    "\n",
    "\tfor t = 0 : x[npts+k]/(p1-1) : x[npts+k]\n",
    "\t\ticount = icount+1\n",
    "\t\tnbasis = basis(k,t,npts,x)\t# generate the basis for this value of t\n",
    "\t\ttemp = (b * nbasis)'\t\t\t\t# generate the point on the curve\n",
    "\t\tp[1,icount] = temp[1,1] \t\t\t# assign the current value of the point \n",
    "\t\tp[2,icount] = temp[1,2]\t\t\t\t# on the curve to the curve array\n",
    "\t\tp[3,icount] = temp[1,3]\n",
    "\tend \n",
    "\t\n",
    "\treturn p\n",
    "end"
   ]
  },
  {
   "cell_type": "markdown",
   "metadata": {},
   "source": [
    "### Visualize curve and control polygon"
   ]
  },
  {
   "cell_type": "code",
   "execution_count": 1,
   "metadata": {},
   "outputs": [
    {
     "name": "stdout",
     "output_type": "stream",
     "text": [
      "\n",
      "Control polygon points\n",
      "\n",
      " [0.0, 0.0, 1.0] \n",
      " [-1.0, 2.0, 1.0] \n",
      " [1.0, 4.0, 1.0] \n",
      " [2.0, 3.0, 1.0] \n",
      " [1.0, 1.0, 1.0] \n",
      " [1.0, 2.0, 1.0] \n",
      " [2.5, 1.0, 1.0] \n",
      " [2.5, 3.0, 1.0] \n",
      " [4.0, 4.0, 1.0] \n",
      " [5.0, 0.0, 1.0] \n",
      "\n",
      "Curve points\n",
      "\n",
      " [0.0, 0.0, 1.0] \n",
      " [-0.256405, 0.611777, 1.0] \n",
      " [-0.391125, 1.15647, 1.0] \n",
      " [-0.421644, 1.63657, 1.0] \n",
      " [-0.365449, 2.05457, 1.0] \n",
      " [-0.240024, 2.41299, 1.0] \n",
      " [-0.0628566, 2.7143, 1.0] \n",
      " [0.148569, 2.96102, 1.0] \n",
      " [0.376766, 3.15564, 1.0] \n",
      " [0.604249, 3.30066, 1.0] \n",
      " [0.814596, 3.39865, 1.0] \n",
      " [1.00181, 3.45293, 1.0] \n",
      " [1.16584, 3.46724, 1.0] \n",
      " [1.30667, 3.44533, 1.0] \n",
      " [1.4243, 3.39095, 1.0] \n",
      " [1.51874, 3.30784, 1.0] \n",
      " [1.58998, 3.19976, 1.0] \n",
      " [1.63803, 3.07044, 1.0] \n",
      " [1.66288, 2.92363, 1.0] \n",
      " [1.66459, 2.7631, 1.0] \n",
      " [1.64482, 2.59316, 1.0] \n",
      " [1.60721, 2.41875, 1.0] \n",
      " [1.5555, 2.24488, 1.0] \n",
      " [1.49345, 2.07654, 1.0] \n",
      " [1.4248, 1.91873, 1.0] \n",
      " [1.35328, 1.77644, 1.0] \n",
      " [1.28267, 1.65467, 1.0] \n",
      " [1.21669, 1.55841, 1.0] \n",
      " [1.15909, 1.49266, 1.0] \n",
      " [1.11286, 1.45963, 1.0] \n",
      " [1.07893, 1.45426, 1.0] \n",
      " [1.05795, 1.47029, 1.0] \n",
      " [1.05052, 1.5015, 1.0] \n",
      " [1.05727, 1.54162, 1.0] \n",
      " [1.07884, 1.58442, 1.0] \n",
      " [1.11584, 1.62365, 1.0] \n",
      " [1.1689, 1.65307, 1.0] \n",
      " [1.23864, 1.66643, 1.0] \n",
      " [1.32523, 1.6588, 1.0] \n",
      " [1.426, 1.63333, 1.0] \n",
      " [1.53721, 1.59627, 1.0] \n",
      " [1.65511, 1.55385, 1.0] \n",
      " [1.77596, 1.51232, 1.0] \n",
      " [1.896, 1.47793, 1.0] \n",
      " [2.01149, 1.45693, 1.0] \n",
      " [2.11868, 1.45555, 1.0] \n",
      " [2.21384, 1.48004, 1.0] \n",
      " [2.29346, 1.53631, 1.0] \n",
      " [2.35847, 1.62475, 1.0] \n",
      " [2.41345, 1.7411, 1.0] \n",
      " [2.46307, 1.88101, 1.0] \n",
      " [2.51203, 2.0401, 1.0] \n",
      " [2.565, 2.214, 1.0] \n",
      " [2.62667, 2.39834, 1.0] \n",
      " [2.70172, 2.58874, 1.0] \n",
      " [2.79483, 2.78084, 1.0] \n",
      " [2.91068, 2.97015, 1.0] \n",
      " [3.05201, 3.14246, 1.0] \n",
      " [3.21822, 3.26641, 1.0] \n",
      " [3.4084, 3.30892, 1.0] \n",
      " [3.62159, 3.23688, 1.0] \n",
      " [3.85686, 3.01719, 1.0] \n",
      " [4.11327, 2.61675, 1.0] \n",
      " [4.38989, 2.00247, 1.0] \n",
      " [4.68578, 1.14126, 1.0] \n",
      " [5.0, 0.0, 1.0] \n"
     ]
    }
   ],
   "source": [
    ";julia6 ./bspline.jl"
   ]
  },
  {
   "cell_type": "markdown",
   "metadata": {},
   "source": [
    "#### file bspline.jl"
   ]
  },
  {
   "cell_type": "code",
   "execution_count": 2,
   "metadata": {},
   "outputs": [
    {
     "name": "stdout",
     "output_type": "stream",
     "text": [
      "\n",
      "Control polygon points\n",
      "\n",
      " [0.0, 0.0, 1.0] \n",
      " [-0.256405, 0.611777, 1.0] \n",
      " [-0.391125, 1.15647, 1.0] \n",
      " [-0.421644, 1.63657, 1.0] \n",
      " [-0.365449, 2.05457, 1.0] \n",
      " [-0.240024, 2.41299, 1.0] \n",
      " [-0.0628566, 2.7143, 1.0] \n",
      " [0.148569, 2.96102, 1.0] \n",
      " [0.376766, 3.15564, 1.0] \n",
      " [0.604249, 3.30066, 1.0] \n",
      "\n",
      "Curve points\n",
      "\n",
      " [0.0, 0.0, 1.0] \n",
      " [-0.256405, 0.611777, 1.0] \n",
      " [-0.391125, 1.15647, 1.0] \n",
      " [-0.421644, 1.63657, 1.0] \n",
      " [-0.365449, 2.05457, 1.0] \n",
      " [-0.240024, 2.41299, 1.0] \n",
      " [-0.0628566, 2.7143, 1.0] \n",
      " [0.148569, 2.96102, 1.0] \n",
      " [0.376766, 3.15564, 1.0] \n",
      " [0.604249, 3.30066, 1.0] \n",
      " [0.814596, 3.39865, 1.0] \n",
      " [1.00181, 3.45293, 1.0] \n",
      " [1.16584, 3.46724, 1.0] \n",
      " [1.30667, 3.44533, 1.0] \n",
      " [1.4243, 3.39095, 1.0] \n",
      " [1.51874, 3.30784, 1.0] \n",
      " [1.58998, 3.19976, 1.0] \n",
      " [1.63803, 3.07044, 1.0] \n",
      " [1.66288, 2.92363, 1.0] \n",
      " [1.66459, 2.7631, 1.0] \n",
      " [1.64482, 2.59316, 1.0] \n",
      " [1.60721, 2.41875, 1.0] \n",
      " [1.5555, 2.24488, 1.0] \n",
      " [1.49345, 2.07654, 1.0] \n",
      " [1.4248, 1.91873, 1.0] \n",
      " [1.35328, 1.77644, 1.0] \n",
      " [1.28267, 1.65467, 1.0] \n",
      " [1.21669, 1.55841, 1.0] \n",
      " [1.15909, 1.49266, 1.0] \n",
      " [1.11286, 1.45963, 1.0] \n",
      " [1.07893, 1.45426, 1.0] \n",
      " [1.05795, 1.47029, 1.0] \n",
      " [1.05052, 1.5015, 1.0] \n",
      " [1.05727, 1.54162, 1.0] \n",
      " [1.07884, 1.58442, 1.0] \n",
      " [1.11584, 1.62365, 1.0] \n",
      " [1.1689, 1.65307, 1.0] \n",
      " [1.23864, 1.66643, 1.0] \n",
      " [1.32523, 1.6588, 1.0] \n",
      " [1.426, 1.63333, 1.0] \n",
      " [1.53721, 1.59627, 1.0] \n",
      " [1.65511, 1.55385, 1.0] \n",
      " [1.77596, 1.51232, 1.0] \n",
      " [1.896, 1.47793, 1.0] \n",
      " [2.01149, 1.45693, 1.0] \n",
      " [2.11868, 1.45555, 1.0] \n",
      " [2.21384, 1.48004, 1.0] \n",
      " [2.29346, 1.53631, 1.0] \n",
      " [2.35847, 1.62475, 1.0] \n",
      " [2.41345, 1.7411, 1.0] \n",
      " [2.46307, 1.88101, 1.0] \n",
      " [2.51203, 2.0401, 1.0] \n",
      " [2.565, 2.214, 1.0] \n",
      " [2.62667, 2.39834, 1.0] \n",
      " [2.70172, 2.58874, 1.0] \n",
      " [2.79483, 2.78084, 1.0] \n",
      " [2.91068, 2.97015, 1.0] \n",
      " [3.05201, 3.14246, 1.0] \n",
      " [3.21822, 3.26641, 1.0] \n",
      " [3.4084, 3.30892, 1.0] \n",
      " [3.62159, 3.23688, 1.0] \n",
      " [3.85686, 3.01719, 1.0] \n",
      " [4.11327, 2.61675, 1.0] \n",
      " [4.38989, 2.00247, 1.0] \n",
      " [4.68578, 1.14126, 1.0] \n",
      " [5.0, 0.0, 1.0] \n"
     ]
    }
   ],
   "source": [
    "include(\"./nurbslib.jl\")       \n",
    "\n",
    "npts = 10;\n",
    "k = 4;     # second order, change to 4 to get fourth order \n",
    "p1 = (npts - k)*11;   # eleven points on each curve segment\n",
    "\n",
    "#\tDefine the control polygon, Ex. 3.4 in the z=1 plane because\n",
    "#\tthis is three dimensional routine. x=b[1], y=b[2], z=b[3], etc.\n",
    "\n",
    "b =\n",
    "[0.0  -1.0  1.0  2.0  1.0  1.0  2.5  2.5  4.0  5.0;\n",
    " 0.0   2.0  4.0  3.0  1.0  2.0  1.0  3.0  4.0  0.0;\n",
    " 1.0   1.0  1.0  1.0  1.0  1.0  1.0  1.0  1.0  1.0]\n",
    "\n",
    "c = bspline(npts,k,p1,b);\n",
    "\n",
    "print(\"\\nControl polygon points\\n\\n\");\n",
    "for i = 1:npts\n",
    "\tprint(\" $(c[:,i]) \\n\")\n",
    "end\n",
    "\n",
    "print(\"\\nCurve points\\n\\n\");\n",
    "for i = 1:p1\n",
    "\tprint(\" $(c[:,i]) \\n\");\n",
    "end"
   ]
  },
  {
   "cell_type": "code",
   "execution_count": 5,
   "metadata": {},
   "outputs": [
    {
     "name": "stdout",
     "output_type": "stream",
     "text": [
      "Building batches from Hpc....\n",
      "...done in 0 msec\n",
      "Optimizing the octree....\n",
      "   Number of input batches 65\n",
      "   total number vertices    68\n",
      "   Number of output batches 34\n",
      "   Batch vertex media       2\n",
      "...done in 0 msec\n",
      "Building octree from 34 batches....\n",
      "Scene number of nodes of the octree 69\n",
      "Scene max depth                     4\n",
      "Scene number of batches             34\n",
      "...done in 0 msec\n"
     ]
    }
   ],
   "source": [
    "d = bspline(npts,k,p1,b)[:,1:p1]\n",
    "_,EV = Lar.cuboidGrid([p1-1])\n",
    "Plasm.view(d,EV);"
   ]
  },
  {
   "cell_type": "code",
   "execution_count": 33,
   "metadata": {},
   "outputs": [
    {
     "data": {
      "text/markdown": [
       "The analogue of IPython's `%%script python ...code...` in Julia can be constructed by first evaluating\n",
       "\n",
       "```\n",
       "macro python_str(s) open(`python`,\"w\",stdout) do io; print(io, s); end; end\n",
       "```\n",
       "\n",
       "to define the `python\"....\"` [string macro](http://docs.julialang.org/en/latest/manual/strings/#non-standard-string-literals) in Julia.  Subsequently, you can simply do:\n",
       "\n",
       "```\n",
       "python\"\"\"\n",
       "...code...\n",
       "\"\"\"\n",
       "```\n",
       "\n",
       "to evaluate the code in `python` (outputting to `stdout`).\n"
      ],
      "text/plain": [
       "The analogue of IPython's `%%script python ...code...` in Julia can be constructed by first evaluating\n",
       "\n",
       "```\n",
       "macro python_str(s) open(`python`,\"w\",stdout) do io; print(io, s); end; end\n",
       "```\n",
       "\n",
       "to define the `python\"....\"` [string macro](http://docs.julialang.org/en/latest/manual/strings/#non-standard-string-literals) in Julia.  Subsequently, you can simply do:\n",
       "\n",
       "```\n",
       "python\"\"\"\n",
       "...code...\n",
       "\"\"\"\n",
       "```\n",
       "\n",
       "to evaluate the code in `python` (outputting to `stdout`).\n"
      ]
     },
     "metadata": {},
     "output_type": "display_data"
    }
   ],
   "source": [
    "%%script python"
   ]
  },
  {
   "cell_type": "code",
   "execution_count": 34,
   "metadata": {},
   "outputs": [
    {
     "ename": "LoadError",
     "evalue": "\u001b[91mUndefVarError: @python_str not defined\u001b[39m",
     "output_type": "error",
     "traceback": [
      "\u001b[91mUndefVarError: @python_str not defined\u001b[39m",
      "",
      "Stacktrace:",
      " [1] \u001b[1minclude_string\u001b[22m\u001b[22m\u001b[1m(\u001b[22m\u001b[22m::String, ::String\u001b[1m)\u001b[22m\u001b[22m at \u001b[1m./loading.jl:522\u001b[22m\u001b[22m",
      " [2] \u001b[1mexecute_request\u001b[22m\u001b[22m\u001b[1m(\u001b[22m\u001b[22m::ZMQ.Socket, ::IJulia.Msg\u001b[1m)\u001b[22m\u001b[22m at \u001b[1m/Users/paoluzzi/.julia/v0.6/IJulia/src/execute_request.jl:193\u001b[22m\u001b[22m",
      " [3] \u001b[1m(::Compat.#inner#6{Array{Any,1},IJulia.#execute_request,Tuple{ZMQ.Socket,IJulia.Msg}})\u001b[22m\u001b[22m\u001b[1m(\u001b[22m\u001b[22m\u001b[1m)\u001b[22m\u001b[22m at \u001b[1m/Users/paoluzzi/.julia/v0.6/Compat/src/Compat.jl:189\u001b[22m\u001b[22m",
      " [4] \u001b[1meventloop\u001b[22m\u001b[22m\u001b[1m(\u001b[22m\u001b[22m::ZMQ.Socket\u001b[1m)\u001b[22m\u001b[22m at \u001b[1m/Users/paoluzzi/.julia/v0.6/IJulia/src/eventloop.jl:8\u001b[22m\u001b[22m",
      " [5] \u001b[1m(::IJulia.##13#16)\u001b[22m\u001b[22m\u001b[1m(\u001b[22m\u001b[22m\u001b[1m)\u001b[22m\u001b[22m at \u001b[1m./task.jl:335\u001b[22m\u001b[22m"
     ]
    }
   ],
   "source": [
    "python\"\"\"\n",
    "from pyplasm import *\n",
    "VIEW(CUBE(1))\n",
    "\"\"\""
   ]
  },
  {
   "cell_type": "code",
   "execution_count": null,
   "metadata": {},
   "outputs": [],
   "source": []
  }
 ],
 "metadata": {
  "kernelspec": {
   "display_name": "Julia 0.6.4",
   "language": "julia",
   "name": "julia-0.6"
  },
  "language_info": {
   "file_extension": ".jl",
   "mimetype": "application/julia",
   "name": "julia",
   "version": "0.6.4"
  }
 },
 "nbformat": 4,
 "nbformat_minor": 2
}
