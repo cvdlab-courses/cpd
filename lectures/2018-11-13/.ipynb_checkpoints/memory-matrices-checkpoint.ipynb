{
 "cells": [
  {
   "cell_type": "markdown",
   "metadata": {},
   "source": [
    "# Experiments with Memory Access and Matrices\n",
    "\n",
    "In many problems, especially problems accessing lots of data and doing relatively simple computations on each datum, the performance bottleneck is memory rather than computational speed.  Because memory is arranged into a **memory hierarchy** of larger/slower and smaller/faster memories, it turns out that *changing the order* of memory access can have a huge impact on performance.\n",
    "\n",
    "In this notebook, we'll explore these performance issues with a few typical matrix algorithms, implemented in Julia."
   ]
  },
  {
   "cell_type": "code",
   "execution_count": 2,
   "metadata": {},
   "outputs": [
    {
     "name": "stdout",
     "output_type": "stream",
     "text": [
      "Julia Version 0.5.2\n",
      "Commit f4c6c9d4bb (2017-05-06 16:34 UTC)\n",
      "Platform Info:\n",
      "  OS: macOS (x86_64-apple-darwin13.4.0)\n",
      "  CPU: Intel(R) Core(TM) i7-4850HQ CPU @ 2.30GHz\n",
      "  WORD_SIZE: 64\n",
      "  BLAS: libopenblas (USE64BITINT DYNAMIC_ARCH NO_AFFINITY Haswell)\n",
      "  LAPACK: libopenblas64_\n",
      "  LIBM: libopenlibm\n",
      "  LLVM: libLLVM-3.7.1 (ORCJIT, haswell)\n"
     ]
    }
   ],
   "source": [
    "using Compat\n",
    "using BenchmarkTools # a useful package of benchmarking utilities\n",
    "versioninfo() # a useful function to print out information about the machine"
   ]
  },
  {
   "cell_type": "markdown",
   "metadata": {},
   "source": [
    "## Benchmarking Matrix Multiplication\n",
    "\n",
    "One of the most basic building blocks of numerical linear algebra is the computation of matrix multiplication: given an $m \\times n$ matrix $A$ and an $n \\times p$ matrix $B$, compute the $m \\times p$ matrix $C = AB$.   The entries of $C$ are given by the exact formula:\n",
    "$$\n",
    "C_{ik} = \\sum_{j=1}^n A_{ij} B_{jk}\n",
    "$$\n",
    "but there are many ways to implement this computation.   $\\approx 2mnp$ flops (floating-point additions and multiplications) are required, but they can re-ordered arbitrarily, leading to $\\sim (mnp)!$ possible orderings.\n",
    "\n",
    "It turns out that the ordering of the operations in the matrix multiplication has a *huge* impact on performance, along with low-level details of the inner loops.  Basically, three factors make the implementation of efficient matrix multiplication highly nontrivial:\n",
    "\n",
    "* [Caches](https://en.wikipedia.org/wiki/CPU_cache): the matrix accesses must be reordered to obtain [temporal locality](https://en.wikipedia.org/wiki/Locality_of_reference) and hence efficient memory (cache) usage.\n",
    "* [Registers](https://en.wikipedia.org/wiki/Processor_register): at the lowest level, the CPU registers form a kind of ideal cache.  The innermost loops of the matrix multiplication need to be unrolled in order to load many values into registers and perform as much work with them as possible (essentially a small submatrix multiplication).  It turns out that a [lot of tricks](http://cscads.rice.edu/workshops/july2007/autotune-slides-07/Frigo.pdf) are required to do this well.\n",
    "* [SIMD instructions](https://en.wikipedia.org/wiki/SIMD): modern CPUs include special instructions that can perform several arithmetic operations at once (e.g. 2, 4, or even 8 `Float64` operations), and to get the full benefit of these operations typically requires hand coding. \n",
    "\n",
    "As a consequence, there is a huge performance gap between the most obvious three-loop matrix-multiplication code and highly optimized code.  This gap has become the central factor in the design of dense linear-algebra libraries for several decades, especially the industry-standard free/open-source the [LAPACK](https://en.wikipedia.org/wiki/LAPACK) library: nearly all dense linear algebra is now organized around highly optimized [BLAS](https://en.wikipedia.org/wiki/Basic_Linear_Algebra_Subprograms) libraries.\n",
    "\n",
    "Because Julia benefits from fast compilers, we can illustrate this performance gap fairly with simple Julia code.  (In contrast, similar implementation in Matlab or Python would be orders of magnitude slower, and would demonstrate mostly language rather than the algorithmic effects.)"
   ]
  },
  {
   "cell_type": "markdown",
   "metadata": {},
   "source": [
    "### Naive algorithm"
   ]
  },
  {
   "cell_type": "markdown",
   "metadata": {},
   "source": [
    "The following is the simplest, most obvious, matrix-multiplication algorithm: just three nested loops, implementing a dot product for each output $C_{ik}$.\n",
    "\n",
    "The only concessions we have made to performance concerns here are (1) we implement an in-place `matmul!` variant that operates on a pre-existing `C` array, to avoid benchmarking the memory allocation/deallocation and (2) we use the `@inbounds` macro to turn off array bounds-checking in Julia for the inner loop.   Together, these make less than a factor of two difference in speed."
   ]
  },
  {
   "cell_type": "code",
   "execution_count": 2,
   "metadata": {},
   "outputs": [
    {
     "data": {
      "text/plain": [
       "matmul (generic function with 1 method)"
      ]
     },
     "execution_count": 2,
     "metadata": {},
     "output_type": "execute_result"
    }
   ],
   "source": [
    "# compute C = A * B, using naive matrix-multiplication algorithm,\n",
    "# with a pre-allocated output array C.  (\"!\" is a Julia convention\n",
    "# for functions that modify their arguments.)\n",
    "function matmul!(C, A, B)\n",
    "    m,n = size(A)\n",
    "    n,p = size(B)\n",
    "    size(C) == (m,p) || error(\"incorrect dimensions \", size(C), \" ≠ $m × $p\")\n",
    "    for i = 1:m\n",
    "        for k = 1:p\n",
    "            c = zero(eltype(C))\n",
    "            for j = 1:n\n",
    "                @inbounds c += A[i,j] * B[j,k]\n",
    "            end\n",
    "            @inbounds C[i,k] = c\n",
    "        end\n",
    "    end\n",
    "    return C\n",
    "end\n",
    "\n",
    "# a wrapper that allocates C of an appropriate type\n",
    "matmul(A, B) = matmul!(Array(promote_type(eltype(A), eltype(B)),\n",
    "                             size(A,1), size(B,2)),\n",
    "                       A, B)"
   ]
  },
  {
   "cell_type": "code",
   "execution_count": 3,
   "metadata": {},
   "outputs": [
    {
     "data": {
      "text/plain": [
       "4.965068306494546e-16"
      ]
     },
     "execution_count": 3,
     "metadata": {},
     "output_type": "execute_result"
    }
   ],
   "source": [
    "# correctness check:\n",
    "A = rand(5,6)\n",
    "B = rand(6,7)\n",
    "norm(matmul(A,B) - A * B)"
   ]
  },
  {
   "cell_type": "markdown",
   "metadata": {},
   "source": [
    "#### Benchmarking naive `matmul`"
   ]
  },
  {
   "cell_type": "markdown",
   "metadata": {},
   "source": [
    "Here, we will benchmark our naive `matmul` implementation against the highly optimized [OpenBLAS library](http://www.openblas.net/) that Julia uses for its built-in matrix multiplication.   Like `matmul!`, we will call OpenBLAS with pre-allocated output via `A_mul_B!(C, A, B)` instead of the simpler `A * B`.  By default, OpenBLAS uses multiple CPU cores, which gives it an \"unfair\" parallel speedup, but we can disable this for benchmarking purposes:"
   ]
  },
  {
   "cell_type": "code",
   "execution_count": 5,
   "metadata": {},
   "outputs": [],
   "source": [
    "# for benchmarking, use only single-threaded BLAS:\n",
    "BLAS.set_num_threads(1)"
   ]
  },
  {
   "cell_type": "markdown",
   "metadata": {},
   "source": [
    "We will benchmark $n \\times n$ matrix multiplications for various $n$ from 10 to 1000.  Julia's `@elapsed ...code...` macro is useful for benchmarking: it times the code and returns the time in seconds.   As we go, we will print the ratio of the naive time to the optimized time, to see the slowdown of our naive code."
   ]
  },
  {
   "cell_type": "code",
   "execution_count": 9,
   "metadata": {},
   "outputs": [
    {
     "name": "stdout",
     "output_type": "stream",
     "text": [
      "finished n = 10: slowdown of 0.002506977855531444\n",
      "finished n = 11: slowdown of 0.2165480675317427\n",
      "finished n = 12: slowdown of 0.7635009310986964\n",
      "finished n = 13: slowdown of 0.9515\n",
      "finished n = 15: slowdown of 1.1112877583465819\n",
      "finished n = 16: slowdown of 1.6217391304347823\n",
      "finished n = 18: slowdown of 0.46818001586042823\n",
      "finished n = 20: slowdown of 2.2485409539142682\n",
      "finished n = 22: slowdown of 3.096949891067539\n",
      "finished n = 24: slowdown of 0.01967628567870081\n",
      "finished n = 26: slowdown of 1.4831348587817195\n",
      "finished n = 29: slowdown of 1.7668548842461886\n",
      "finished n = 32: slowdown of 3.045717686522751\n",
      "finished n = 35: slowdown of 1.8286453793941315\n",
      "finished n = 39: slowdown of 2.2389828178694158\n",
      "finished n = 43: slowdown of 1.7382000677360758\n",
      "finished n = 47: slowdown of 2.338813678942641\n",
      "finished n = 52: slowdown of 2.875007254367129\n",
      "finished n = 57: slowdown of 3.547074846044528\n",
      "finished n = 63: slowdown of 2.8731186276096454\n",
      "finished n = 69: slowdown of 2.979779815274471\n",
      "finished n = 76: slowdown of 3.6748649355176015\n",
      "finished n = 84: slowdown of 3.8295754824568724\n",
      "finished n = 92: slowdown of 8.983442361607388\n",
      "finished n = 102: slowdown of 9.350980107944034\n",
      "finished n = 112: slowdown of 11.875338487339961\n",
      "finished n = 123: slowdown of 11.063000118644291\n",
      "finished n = 136: slowdown of 11.884790840844165\n",
      "finished n = 150: slowdown of 11.575087802032789\n",
      "finished n = 165: slowdown of 12.019191505420393\n",
      "finished n = 182: slowdown of 11.816894731628624\n",
      "finished n = 200: slowdown of 14.26575679218029\n",
      "finished n = 221: slowdown of 13.512067646296867\n",
      "finished n = 243: slowdown of 11.496175293108378\n",
      "finished n = 268: slowdown of 15.089506014003005\n",
      "finished n = 295: slowdown of 14.95370622766296\n",
      "finished n = 325: slowdown of 15.762016759119719\n",
      "finished n = 358: slowdown of 15.312656413356622\n",
      "finished n = 394: slowdown of 16.063582377513452\n",
      "finished n = 434: slowdown of 16.25181444836141\n",
      "finished n = 478: slowdown of 16.523030315076932\n",
      "finished n = 526: slowdown of 15.72090954239387\n",
      "finished n = 580: slowdown of 17.170070832915685\n",
      "finished n = 639: slowdown of 17.988182532843504\n",
      "finished n = 704: slowdown of 34.59614429408484\n",
      "finished n = 775: slowdown of 20.320698557127455\n",
      "finished n = 854: slowdown of 21.668200986286337\n",
      "finished n = 940: slowdown of 19.643059075177434\n",
      "finished n = 1036: slowdown of 47.29736824731378\n",
      "finished n = 1141: slowdown of 113.9350244361876\n",
      "finished n = 1257: slowdown of 143.78594886340383\n",
      "finished n = 1384: slowdown of 149.07750598240807\n",
      "finished n = 1525: slowdown of 146.56384972088802\n",
      "finished n = 1680: slowdown of 154.0172313280941\n",
      "finished n = 1850: slowdown of 162.92742019948506\n",
      "finished n = 2038: slowdown of 167.43525578314308\n",
      "finished n = 2245: slowdown of 177.28139394722697\n",
      "finished n = 2473: slowdown of 187.12434836044065\n",
      "finished n = 2724: slowdown of 201.5583918148679\n",
      "finished n = 3000: slowdown of 221.44352750135698\n"
     ]
    }
   ],
   "source": [
    "N = round(Int, logspace(1, log10(3000), 60))  # 60 sizes from 10 to 3000\n",
    "# alternatively, use N = 10:1000 to see some interesting patterns due to cache associativity etc.\n",
    "t = Float64[]\n",
    "t0 = Float64[]\n",
    "for n in N\n",
    "    A = zeros(n,n)\n",
    "    B = zeros(n,n)\n",
    "    # preallocate output C so that allocation is not included in timing\n",
    "    C = zeros(n,n)\n",
    "    push!(t, @elapsed matmul!(C,A,B))\n",
    "    push!(t0, @elapsed A_mul_B!(C,A,B))\n",
    "    println(\"finished n = $n: slowdown of \", t[end]/t0[end])\n",
    "end"
   ]
  },
  {
   "cell_type": "code",
   "execution_count": 10,
   "metadata": {},
   "outputs": [],
   "source": [
    "using PyPlot # a plotting library based on Python's Matplotlib"
   ]
  },
  {
   "cell_type": "markdown",
   "metadata": {},
   "source": [
    "Now, we will plot the results.  Since the number of flops is $2n^3$, we will plot $2n^3 / t$ for time $t$ in microseconds in order to plot the **gigaflops rate** (billions of flops per second).  If you naively think of a CPU as a box that performs floating-point instructions at a fixed rate, with all other instructions being negligible (a picture that *may* have been true circa 1985), this would be a flat horizontal line independent of $n$, but we will see that reality is quite different.\n",
    "\n",
    "The OpenBLAS library gets an \"unfair\" factor of 8 speedup on typical modern Intel processors thanks to hand-coded support for [AVX-512](https://en.wikipedia.org/wiki/Advanced_Vector_Extensions) SIMD instructions, which perform 8 double-precision floating-point operations simultaneously, so we will divide the BLAS performance by 8 for comparison purposes."
   ]
  },
  {
   "cell_type": "code",
   "execution_count": 8,
   "metadata": {},
   "outputs": [
    {
     "data": {
      "image/png": "[encoded data removed]",
      "text/plain": [
       "PyPlot.Figure(PyObject <Figure size 640x480 with 1 Axes>)"
      ]
     },
     "metadata": {},
     "output_type": "display_data"
    },
    {
     "data": {
      "text/plain": [
       "PyObject <matplotlib.legend.Legend object at 0x33e5db850>"
      ]
     },
     "execution_count": 8,
     "metadata": {},
     "output_type": "execute_result"
    }
   ],
   "source": [
    "plot(N, 2N.^3 ./ t * 1e-9, \"rs-\")\n",
    "plot(N, 2N.^3 ./ t0 * 1e-9 / 8, \"b.-\")\n",
    "ylabel(L\"gigaflops $2n^3/t$\")\n",
    "xlabel(L\"matrix size $n$\")\n",
    "legend([\"naive matmul\", \"BLAS matmul / 8\"], loc=\"center right\")"
   ]
  },
  {
   "cell_type": "markdown",
   "metadata": {},
   "source": [
    "#### Naive matmul in C"
   ]
  },
  {
   "cell_type": "markdown",
   "metadata": {},
   "source": [
    "You may be suspicious that the problem is simply that Julia is slow.   We can check this hypothesis by implementing the same algorithm in C, compiling it, and then calling it by Julia's built-in `ccall` instruction that makes it [easy to call C from Julia](http://docs.julialang.org/en/latest/manual/calling-c-and-fortran-code/)."
   ]
  },
  {
   "cell_type": "code",
   "execution_count": 12,
   "metadata": {},
   "outputs": [
    {
     "data": {
      "text/plain": [
       "cmatmul (generic function with 1 method)"
      ]
     },
     "execution_count": 12,
     "metadata": {},
     "output_type": "execute_result"
    }
   ],
   "source": [
    "# C implementation:\n",
    "Cmatmul = \"\"\"\n",
    "void Cmatmul(int m, int n, int p, double *C, double *A, double *B)\n",
    "{\n",
    "    int i, j, k;\n",
    "    for (i = 0; i < m; ++i)\n",
    "        for (j = 0; j < p; ++j) {\n",
    "            double c = 0.0;\n",
    "            for (k = 0; k < n; ++k)\n",
    "                c += A[i + m*k] * B[k + n*j];\n",
    "            C[i + m*j] = c;\n",
    "    }\n",
    "}\n",
    "\"\"\"\n",
    "# compile to a shared library by piping Cmatmul to gcc:\n",
    "# (only works if you have gcc installed)\n",
    "const Clib = tempname()\n",
    "open(`gcc -fPIC -O3 -xc -shared -o $(Clib * \".\" * Libdl.dlext) -`, \"w\") do f\n",
    "    print(f, Cmatmul)\n",
    "end\n",
    "\n",
    "# define a Julia cmatmul! function that simply calls the C code in the shared library we compiled\n",
    "function cmatmul!(C, A, B)\n",
    "    m,n = size(A)\n",
    "    n,p = size(B)\n",
    "    size(C) == (m,p) || error(\"incorrect dimensions \", size(C), \" ≠ $m × $p\")\n",
    "    ccall((\"Cmatmul\", Clib), Void, (Cint, Cint, Cint, Ptr{Float64}, Ptr{Float64}, Ptr{Float64}),\n",
    "          m, n, p, C, A, B)\n",
    "    return C\n",
    "end\n",
    "cmatmul(A, B) = cmatmul!(Array(promote_type(eltype(A), eltype(B)),\n",
    "                               size(A,1), size(B,2)),\n",
    "                         A, B)"
   ]
  },
  {
   "cell_type": "code",
   "execution_count": 13,
   "metadata": {},
   "outputs": [
    {
     "data": {
      "text/plain": [
       "5.288299887609088e-16"
      ]
     },
     "execution_count": 13,
     "metadata": {},
     "output_type": "execute_result"
    }
   ],
   "source": [
    "# correctness check:\n",
    "A = rand(5,6)\n",
    "B = rand(6,7)\n",
    "norm(cmatmul(A,B) - A * B)"
   ]
  },
  {
   "cell_type": "markdown",
   "metadata": {},
   "source": [
    "Now, let's benchmark it and print out the \"speedup\" compared to pure Julia.  We see that it is **about the same speed**.  Julia's main claim to fame is that it is a dynamic language (like Python or Matlab) that stays within a factor of 2 (usually better) of C."
   ]
  },
  {
   "cell_type": "code",
   "execution_count": 14,
   "metadata": {},
   "outputs": [
    {
     "name": "stdout",
     "output_type": "stream",
     "text": [
      "finished n = 10: speedup of 2.08749248346362\n",
      "finished n = 11: speedup of 1.1681701030927836\n",
      "finished n = 12: speedup of 1.2628048780487806\n",
      "finished n = 13: speedup of 1.346295323173936\n",
      "finished n = 15: speedup of 1.251788268955651\n",
      "finished n = 16: speedup of 1.3098004170390232\n",
      "finished n = 18: speedup of 0.5081515985602371\n",
      "finished n = 20: speedup of 0.5648438199230288\n",
      "finished n = 22: speedup of 0.6002462187829757\n",
      "finished n = 24: speedup of 0.5915896081021577\n",
      "finished n = 26: speedup of 0.5728098200773499\n",
      "finished n = 29: speedup of 0.6879933527212297\n",
      "finished n = 32: speedup of 0.7263473904856645\n",
      "finished n = 35: speedup of 0.6773159247811895\n",
      "finished n = 39: speedup of 0.6626597743206906\n",
      "finished n = 43: speedup of 0.6449915862191126\n",
      "finished n = 47: speedup of 0.6527148157546413\n",
      "finished n = 52: speedup of 0.7193942177162552\n",
      "finished n = 57: speedup of 0.7083117706959584\n",
      "finished n = 63: speedup of 0.7951519930903697\n",
      "finished n = 69: speedup of 0.8457172971272982\n",
      "finished n = 76: speedup of 0.7772515032416272\n",
      "finished n = 84: speedup of 0.8217457179256616\n",
      "finished n = 92: speedup of 0.9014354617428457\n",
      "finished n = 102: speedup of 0.8040404445656147\n",
      "finished n = 112: speedup of 0.9137878535280818\n",
      "finished n = 123: speedup of 0.876151981754182\n",
      "finished n = 136: speedup of 0.9630763311200405\n",
      "finished n = 150: speedup of 1.196671201843233\n",
      "finished n = 165: speedup of 1.02936173935539\n",
      "finished n = 182: speedup of 0.9738024228467781\n",
      "finished n = 200: speedup of 1.2642635681292034\n",
      "finished n = 221: speedup of 1.0676504232645108\n",
      "finished n = 243: speedup of 0.8698478738262083\n",
      "finished n = 268: speedup of 0.9017362218442201\n",
      "finished n = 295: speedup of 0.9858902452491625\n",
      "finished n = 325: speedup of 1.082534427699872\n",
      "finished n = 358: speedup of 0.9689179440371729\n",
      "finished n = 394: speedup of 0.1240443113527663\n",
      "finished n = 434: speedup of 0.9993354570431918\n",
      "finished n = 478: speedup of 0.2940175513375448\n",
      "finished n = 526: speedup of 1.3265524322865649\n",
      "finished n = 580: speedup of 1.161903624838233\n",
      "finished n = 639: speedup of 0.9901970505313284\n",
      "finished n = 704: speedup of 1.4479017053785207\n",
      "finished n = 775: speedup of 0.9047811083123722\n",
      "finished n = 854: speedup of 0.984929766275252\n",
      "finished n = 940: speedup of 1.9381212989468669\n"
     ]
    }
   ],
   "source": [
    "tc = Float64[]\n",
    "for n in N[N .<= 1000]\n",
    "    A = zeros(n,n)\n",
    "    B = zeros(n,n)\n",
    "    # preallocate output C so that allocation is not included in timing\n",
    "    C = zeros(n,n)\n",
    "    push!(tc, @elapsed cmatmul!(C,A,B))\n",
    "    println(\"finished n = $n: speedup of \", tc[end]/t[length(tc)])\n",
    "end"
   ]
  },
  {
   "cell_type": "markdown",
   "metadata": {},
   "source": [
    "### Cache-oblivious matrix-multiplication"
   ]
  },
  {
   "cell_type": "markdown",
   "metadata": {},
   "source": [
    "As a first step in the right direction, we'll implement a [cache-oblivious algorithm](https://en.wikipedia.org/wiki/Cache-oblivious_algorithm) for matrix multiplication: divide the matrices into four submatrices which are multiplied *recursively* until a sufficiently large base case is reached (large enough to amortize the recursion overhead).   This strategy erases the steep performance drop-off that occurs for large $n$ where the matrix goes out-of-cache, at the cost of ~25 lines of code rather than ~10 for the naive loops.\n",
    "\n",
    "(It still doesn't match the OpenBLAS performance because it fails to address the other two problems: unrolling and optimizing the base cases to optimize register utilization, and coding for SIMD instructions.)"
   ]
  },
  {
   "cell_type": "code",
   "execution_count": 15,
   "metadata": {},
   "outputs": [
    {
     "data": {
      "text/plain": [
       "matmul_rec (generic function with 1 method)"
      ]
     },
     "execution_count": 15,
     "metadata": {},
     "output_type": "execute_result"
    }
   ],
   "source": [
    "function add_matmul_rec!(m,n,p, i0,j0,k0, C,A,B)\n",
    "    if m+n+p <= 64   # base case: naive matmult for sufficiently large matrices\n",
    "        for i = 1:m\n",
    "            for k = 1:p\n",
    "                c = zero(eltype(C))\n",
    "                for j = 1:n\n",
    "                    @inbounds c += A[i0+i,j0+j] * B[j0+j,k0+k]\n",
    "                end\n",
    "                @inbounds C[i0+i,k0+k] += c\n",
    "            end\n",
    "        end\n",
    "    else\n",
    "        m2 = m ÷ 2; n2 = n ÷ 2; p2 = p ÷ 2\n",
    "        add_matmul_rec!(m2, n2, p2, i0, j0, k0, C, A, B)\n",
    "        \n",
    "        add_matmul_rec!(m-m2, n2, p2, i0+m2, j0, k0, C, A, B)\n",
    "        add_matmul_rec!(m2, n-n2, p2, i0, j0+n2, k0, C, A, B)\n",
    "        add_matmul_rec!(m2, n2, p-p2, i0, j0, k0+p2, C, A, B)\n",
    "        \n",
    "        add_matmul_rec!(m-m2, n-n2, p2, i0+m2, j0+n2, k0, C, A, B)\n",
    "        add_matmul_rec!(m2, n-n2, p-p2, i0, j0+n2, k0+p2, C, A, B)\n",
    "        add_matmul_rec!(m-m2, n2, p-p2, i0+m2, j0, k0+p2, C, A, B)\n",
    "        \n",
    "        add_matmul_rec!(m-m2, n-n2, p-p2, i0+m2, j0+n2, k0+p2, C, A, B)\n",
    "    end\n",
    "    return C\n",
    "end\n",
    "\n",
    "function matmul_rec!(C, A, B)\n",
    "    m,n = size(A)\n",
    "    n,p = size(B)\n",
    "    size(C) == (m,p) || error(\"incorrect dimensions \", size(C), \" ≠ $m × $p\")\n",
    "    fill!(C, 0)\n",
    "    return add_matmul_rec!(m,n,p, 0,0,0, C,A,B)\n",
    "end\n",
    "\n",
    "\n",
    "matmul_rec(A, B) = matmul_rec!(Array(promote_type(eltype(A), eltype(B)),\n",
    "                                     size(A,1), size(B,2)),\n",
    "                               A, B)"
   ]
  },
  {
   "cell_type": "code",
   "execution_count": 16,
   "metadata": {},
   "outputs": [
    {
     "data": {
      "text/plain": [
       "5.1839735634371465e-14"
      ]
     },
     "execution_count": 16,
     "metadata": {},
     "output_type": "execute_result"
    }
   ],
   "source": [
    "# correctness check:\n",
    "A = rand(50,60)\n",
    "B = rand(60,70)\n",
    "norm(matmul_rec(A,B) - A * B)"
   ]
  },
  {
   "cell_type": "code",
   "execution_count": 17,
   "metadata": {},
   "outputs": [
    {
     "name": "stdout",
     "output_type": "stream",
     "text": [
      "finished n = 10: slowdown of 0.005015463214283292\n",
      "finished n = 11: slowdown of 0.27975443002651035\n",
      "finished n = 12: slowdown of 0.8105214152700185\n",
      "finished n = 13: slowdown of 1.0125000000000002\n",
      "finished n = 15: slowdown of 1.0564387917329092\n",
      "finished n = 16: slowdown of 1.6623188405797102\n",
      "finished n = 18: slowdown of 0.20846550356859633\n",
      "finished n = 20: slowdown of 1.3984705172066814\n",
      "finished n = 22: slowdown of 3.4809368191721135\n",
      "finished n = 24: slowdown of 0.011743172920197758\n",
      "finished n = 26: slowdown of 0.8224951680279319\n",
      "finished n = 29: slowdown of 0.9909090909090909\n",
      "finished n = 32: slowdown of 1.3340366823567604\n",
      "finished n = 35: slowdown of 0.7778570108021022\n",
      "finished n = 39: slowdown of 1.242914089347079\n",
      "finished n = 43: slowdown of 0.9180393485021091\n",
      "finished n = 47: slowdown of 1.2444661876042602\n",
      "finished n = 52: slowdown of 1.5182084614938192\n",
      "finished n = 57: slowdown of 1.9680098294647086\n",
      "finished n = 63: slowdown of 1.870701839564115\n",
      "finished n = 69: slowdown of 1.9012461374803709\n",
      "finished n = 76: slowdown of 2.4153305449053093\n",
      "finished n = 84: slowdown of 2.72225281908354\n",
      "finished n = 92: slowdown of 6.522785993073497\n",
      "finished n = 102: slowdown of 6.557182200318887\n",
      "finished n = 112: slowdown of 8.609588088518018\n",
      "finished n = 123: slowdown of 8.946610068945516\n",
      "finished n = 136: slowdown of 10.570050047611666\n",
      "finished n = 150: slowdown of 10.128416419497222\n",
      "finished n = 165: slowdown of 11.247841358823093\n",
      "finished n = 182: slowdown of 12.004490544855921\n",
      "finished n = 200: slowdown of 13.38455540667376\n",
      "finished n = 221: slowdown of 12.096950855820847\n",
      "finished n = 243: slowdown of 8.61505316245093\n",
      "finished n = 268: slowdown of 11.515488093058651\n",
      "finished n = 295: slowdown of 12.92994705192381\n",
      "finished n = 325: slowdown of 12.354318038498947\n",
      "finished n = 358: slowdown of 13.601225987793876\n",
      "finished n = 394: slowdown of 13.145633024166903\n",
      "finished n = 434: slowdown of 14.450244884524531\n",
      "finished n = 478: slowdown of 13.696779318659582\n",
      "finished n = 526: slowdown of 11.774594084045504\n",
      "finished n = 580: slowdown of 13.917063087285255\n",
      "finished n = 639: slowdown of 13.388276585257219\n",
      "finished n = 704: slowdown of 15.461121429177967\n",
      "finished n = 775: slowdown of 14.799331129652895\n",
      "finished n = 854: slowdown of 14.510525952678124\n",
      "finished n = 940: slowdown of 14.365294436719477\n",
      "finished n = 1036: slowdown of 14.992253964863138\n",
      "finished n = 1141: slowdown of 14.782051059200019\n",
      "finished n = 1257: slowdown of 15.35857667952315\n",
      "finished n = 1384: slowdown of 17.87145060306824\n",
      "finished n = 1525: slowdown of 16.67740676863648\n",
      "finished n = 1680: slowdown of 16.934952551767075\n",
      "finished n = 1850: slowdown of 15.878487761231146\n",
      "finished n = 2038: slowdown of 15.966909283269959\n",
      "finished n = 2245: slowdown of 15.926698141404135\n",
      "finished n = 2473: slowdown of 14.90324581513637\n",
      "finished n = 2724: slowdown of 17.71384531621985\n",
      "finished n = 3000: slowdown of 16.235959875671047\n"
     ]
    }
   ],
   "source": [
    "tco = Float64[]\n",
    "for n in N\n",
    "    A = zeros(n,n)\n",
    "    B = zeros(n,n)\n",
    "    # preallocate output C so that allocation is not included in timing\n",
    "    C = zeros(n,n)\n",
    "    push!(tco, @elapsed matmul_rec!(C,A,B))\n",
    "    println(\"finished n = $n: slowdown of \", tco[end]/t0[length(tco)])\n",
    "end"
   ]
  },
  {
   "cell_type": "code",
   "execution_count": 18,
   "metadata": {},
   "outputs": [
    {
     "data": {
      "image/png": "[encoded data removed]",
      "text/plain": [
       "PyPlot.Figure(PyObject <Figure size 640x480 with 1 Axes>)"
      ]
     },
     "metadata": {},
     "output_type": "display_data"
    },
    {
     "data": {
      "text/plain": [
       "PyObject <matplotlib.legend.Legend object at 0x10fef1bd0>"
      ]
     },
     "execution_count": 18,
     "metadata": {},
     "output_type": "execute_result"
    }
   ],
   "source": [
    "plot(N, 2N.^3 ./ t * 1e-9, \"rs-\")\n",
    "plot(N, 2N.^3 ./ tco * 1e-9, \"ko-\")\n",
    "plot(N, 2N.^3 ./ t0 * 1e-9 / 8, \"b.-\")\n",
    "ylabel(L\"gigaflops $2n^3/t$\")\n",
    "xlabel(L\"matrix size $n$\")\n",
    "legend([\"naive matmul\", \"cache-oblivious\", \"BLAS matmul / 8\"], loc=\"upper left\")"
   ]
  },
  {
   "cell_type": "markdown",
   "metadata": {},
   "source": [
    "## Matrix addition\n",
    "\n",
    "Matrix addition is an interesting case because it has no data re-use, so there is no possible temporal locality, but depending on *what order* you use for the loops and *how matrices are stored* in memory, you may or may not get **spatial locality** that takes advantage of **cache lines**.\n",
    "\n",
    "Here let's implement matrix addition in two different ways.  As above, we'll use a pre-allocated output array so that our benchmark does not include the time for memory allocation:"
   ]
  },
  {
   "cell_type": "code",
   "execution_count": 21,
   "metadata": {},
   "outputs": [
    {
     "data": {
      "text/plain": [
       "true"
      ]
     },
     "execution_count": 21,
     "metadata": {},
     "output_type": "execute_result"
    }
   ],
   "source": [
    "function matadd1!(C, A, B)\n",
    "    size(C) == size(A) == size(B) || throw(DimensionMismatchmatch())\n",
    "    m,n = size(A)\n",
    "    for i = 1:m\n",
    "        @simd for j = 1:n\n",
    "            @inbounds C[i,j] = A[i,j] + B[i,j]\n",
    "        end\n",
    "    end\n",
    "    return C\n",
    "end\n",
    "matadd1(A, B) = matadd1!(similar(A, promote_type(eltype(A), eltype(B))), A, B)\n",
    "\n",
    "function matadd2!(C, A, B)\n",
    "    size(C) == size(A) == size(B) || throw(DimensionMismatch())\n",
    "    m,n = size(A)\n",
    "    for j = 1:n\n",
    "        @simd for i = 1:m\n",
    "            @inbounds C[i,j] = A[i,j] + B[i,j]\n",
    "        end\n",
    "    end\n",
    "    return C\n",
    "end\n",
    "matadd2(A, B) = matadd2!(similar(A, promote_type(eltype(A), eltype(B))), A, B)\n",
    "\n",
    "A = rand(5,6)\n",
    "B = rand(5,6)\n",
    "A + B ≈ matadd1(A,B) ≈ matadd2(A,B)"
   ]
  },
  {
   "cell_type": "code",
   "execution_count": 24,
   "metadata": {},
   "outputs": [
    {
     "name": "stdout",
     "output_type": "stream",
     "text": [
      "finished n = 10: ratio t1/t2 of 0.3463709677419355\n",
      "finished n = 11: ratio t1/t2 of 0.8147208121827411\n",
      "finished n = 12: ratio t1/t2 of 1.6778115501519757\n",
      "finished n = 13: ratio t1/t2 of 0.9936305732484076\n",
      "finished n = 15: ratio t1/t2 of 1.1254237288135593\n",
      "finished n = 16: ratio t1/t2 of 1.40625\n",
      "finished n = 18: ratio t1/t2 of 1.1850746268656716\n",
      "finished n = 20: ratio t1/t2 of 1.8213058419243986\n",
      "finished n = 22: ratio t1/t2 of 1.2442748091603053\n",
      "finished n = 24: ratio t1/t2 of 1.660968660968661\n",
      "finished n = 26: ratio t1/t2 of 1.4798099762470307\n",
      "finished n = 29: ratio t1/t2 of 1.4442270058708415\n",
      "finished n = 32: ratio t1/t2 of 1.9377510040160644\n",
      "finished n = 35: ratio t1/t2 of 1.4779969650986342\n",
      "finished n = 39: ratio t1/t2 of 1.6993788819875777\n",
      "finished n = 43: ratio t1/t2 of 1.8002059732234807\n",
      "finished n = 47: ratio t1/t2 of 1.9678308823529411\n",
      "finished n = 52: ratio t1/t2 of 2.7176274018379285\n",
      "finished n = 57: ratio t1/t2 of 2.2844996729888813\n",
      "finished n = 63: ratio t1/t2 of 1.9277546777546777\n",
      "finished n = 69: ratio t1/t2 of 2.029275092936803\n",
      "finished n = 76: ratio t1/t2 of 2.699751861042184\n",
      "finished n = 84: ratio t1/t2 of 2.7001052262364085\n",
      "finished n = 92: ratio t1/t2 of 2.6786751888436955\n",
      "finished n = 102: ratio t1/t2 of 2.6649601820250286\n",
      "finished n = 112: ratio t1/t2 of 6.875055317893495\n",
      "finished n = 123: ratio t1/t2 of 3.1416017797552835\n",
      "finished n = 136: ratio t1/t2 of 2.2617872340425533\n",
      "finished n = 150: ratio t1/t2 of 3.6904350139683384\n",
      "finished n = 165: ratio t1/t2 of 4.094342621040364\n",
      "finished n = 182: ratio t1/t2 of 3.919153168513782\n",
      "finished n = 200: ratio t1/t2 of 4.291665125226592\n",
      "finished n = 221: ratio t1/t2 of 4.296980495123781\n",
      "finished n = 243: ratio t1/t2 of 4.650701236867981\n",
      "finished n = 268: ratio t1/t2 of 4.837777683567916\n",
      "finished n = 295: ratio t1/t2 of 4.714160322738551\n",
      "finished n = 325: ratio t1/t2 of 4.645509885668977\n",
      "finished n = 358: ratio t1/t2 of 4.9196189983622105\n",
      "finished n = 394: ratio t1/t2 of 5.017952217279957\n",
      "finished n = 434: ratio t1/t2 of 14.130363955378846\n",
      "finished n = 478: ratio t1/t2 of 18.43177471222492\n",
      "finished n = 526: ratio t1/t2 of 25.449646741730728\n",
      "finished n = 580: ratio t1/t2 of 18.080182949320086\n",
      "finished n = 639: ratio t1/t2 of 14.739424319949377\n",
      "finished n = 704: ratio t1/t2 of 14.783351581624849\n",
      "finished n = 775: ratio t1/t2 of 14.991016349402058\n",
      "finished n = 854: ratio t1/t2 of 14.907827038287582\n",
      "finished n = 940: ratio t1/t2 of 14.512254460640422\n",
      "finished n = 1036: ratio t1/t2 of 17.9989768484274\n",
      "finished n = 1141: ratio t1/t2 of 15.697012902321172\n",
      "finished n = 1257: ratio t1/t2 of 16.906895698685626\n",
      "finished n = 1384: ratio t1/t2 of 18.100656483514623\n",
      "finished n = 1525: ratio t1/t2 of 17.334426596966777\n",
      "finished n = 1680: ratio t1/t2 of 16.919535985013223\n",
      "finished n = 1850: ratio t1/t2 of 25.736752580996234\n",
      "finished n = 2038: ratio t1/t2 of 21.802322493248958\n",
      "finished n = 2245: ratio t1/t2 of 14.906817950258524\n",
      "finished n = 2473: ratio t1/t2 of 24.947543707563604\n",
      "finished n = 2724: ratio t1/t2 of 23.555740458130108\n",
      "finished n = 3000: ratio t1/t2 of 18.192541324141814\n"
     ]
    }
   ],
   "source": [
    "Na = round(Int, logspace(1, log10(3000), 60))  # 60 sizes from 10 to 3000\n",
    "# alternatively, use N = 10:1000 to see some interesting patterns due to cache associativity etc.\n",
    "t1 = Float64[]\n",
    "t2 = Float64[]\n",
    "for n in Na\n",
    "    A = zeros(n,n)\n",
    "    B = zeros(n,n)\n",
    "    # preallocate output C so that allocation is not included in timing\n",
    "    C = zeros(n,n)\n",
    "    matadd1!(C,A,B) # add once just to make sure we are in cache if A and B are small\n",
    "    push!(t1, @elapsed matadd1!(C,A,B))\n",
    "    push!(t2, @elapsed matadd2!(C,A,B))\n",
    "    println(\"finished n = $n: ratio t1/t2 of \", t1[end]/t2[end])\n",
    "end"
   ]
  },
  {
   "cell_type": "code",
   "execution_count": 25,
   "metadata": {},
   "outputs": [
    {
     "data": {
      "image/png": "[encoded data removed]",
      "text/plain": [
       "PyPlot.Figure(PyObject <Figure size 640x480 with 1 Axes>)"
      ]
     },
     "metadata": {},
     "output_type": "display_data"
    },
    {
     "data": {
      "text/plain": [
       "PyObject <matplotlib.legend.Legend object at 0x325901c50>"
      ]
     },
     "execution_count": 25,
     "metadata": {},
     "output_type": "execute_result"
    }
   ],
   "source": [
    "plot(Na, Na.^2 ./ t1 * 1e-9, \"rs-\")\n",
    "plot(Na, Na.^2 ./ t2 * 1e-9, \"bo-\")\n",
    "xlabel(L\"matrix size $n$\")\n",
    "ylabel(L\"gigaflops $n^2/t$\")\n",
    "legend([\"by row\", \"by column\"])"
   ]
  },
  {
   "cell_type": "code",
   "execution_count": 26,
   "metadata": {},
   "outputs": [
    {
     "data": {
      "image/png": "[encoded data removed]",
      "text/plain": [
       "PyPlot.Figure(PyObject <Figure size 640x480 with 1 Axes>)"
      ]
     },
     "metadata": {},
     "output_type": "display_data"
    },
    {
     "data": {
      "text/plain": [
       "PyObject Text(0.5,1,'ratio of matrix-addition algorithms')"
      ]
     },
     "execution_count": 26,
     "metadata": {},
     "output_type": "execute_result"
    }
   ],
   "source": [
    "plot(Na, t1 ./ t2, \"rs-\")\n",
    "xlabel(L\"matrix size $n$\")\n",
    "ylabel(\"by row time / by column time\")\n",
    "title(\"ratio of matrix-addition algorithms\")"
   ]
  },
  {
   "cell_type": "markdown",
   "metadata": {},
   "source": [
    "We can see that addition is about ***20 times slower*** if we add by rows rather than by columns.\n",
    "\n",
    "The reason for this is that **Julia stores matrices with consecutive columns**, which is known as **column-major storage** format."
   ]
  },
  {
   "cell_type": "markdown",
   "metadata": {},
   "source": [
    "## Other examples: vectorized vs. devectorized operations\n",
    "\n",
    "Another example of the importance of spatial locality can be seen in vectorized operations.\n",
    "\n",
    "Consider the following function, which computes $f(x) = 2x^2 - 3x + 4$ *element-wise* for an array of $x$ values:"
   ]
  },
  {
   "cell_type": "code",
   "execution_count": 27,
   "metadata": {},
   "outputs": [],
   "source": [
    "f_vec(x) = 2 * x.^2 - 3 * x + 4\n",
    "f_devec(X) = map(f_vec, X)\n",
    "\n",
    "X = rand(10^6);"
   ]
  },
  {
   "cell_type": "code",
   "execution_count": 28,
   "metadata": {},
   "outputs": [],
   "source": [
    "using Compat\n",
    "using BenchmarkTools"
   ]
  },
  {
   "cell_type": "code",
   "execution_count": 29,
   "metadata": {},
   "outputs": [
    {
     "data": {
      "text/plain": [
       "BenchmarkTools.Trial: \n",
       "  memory estimate:  38.15 MiB\n",
       "  allocs estimate:  10\n",
       "  --------------\n",
       "  minimum time:     10.104 ms (20.06% GC)\n",
       "  median time:      11.027 ms (22.12% GC)\n",
       "  mean time:        12.129 ms (21.52% GC)\n",
       "  maximum time:     16.785 ms (20.04% GC)\n",
       "  --------------\n",
       "  samples:          412\n",
       "  evals/sample:     1"
      ]
     },
     "execution_count": 29,
     "metadata": {},
     "output_type": "execute_result"
    }
   ],
   "source": [
    "@benchmark f_vec($X)"
   ]
  },
  {
   "cell_type": "code",
   "execution_count": 30,
   "metadata": {},
   "outputs": [
    {
     "data": {
      "text/plain": [
       "BenchmarkTools.Trial: \n",
       "  memory estimate:  7.63 MiB\n",
       "  allocs estimate:  3\n",
       "  --------------\n",
       "  minimum time:     1.566 ms (0.00% GC)\n",
       "  median time:      1.634 ms (0.00% GC)\n",
       "  mean time:        2.064 ms (21.22% GC)\n",
       "  maximum time:     3.699 ms (49.98% GC)\n",
       "  --------------\n",
       "  samples:          2404\n",
       "  evals/sample:     1"
      ]
     },
     "execution_count": 30,
     "metadata": {},
     "output_type": "execute_result"
    }
   ],
   "source": [
    "@benchmark f_devec($X)"
   ]
  },
  {
   "cell_type": "markdown",
   "metadata": {},
   "source": [
    "The `f_devec` function is about **7 times faster** than the vectorized version, and allocates about **1/5 the memory**.   That is because `f_vec` is effectively equivalent to:"
   ]
  },
  {
   "cell_type": "code",
   "execution_count": 31,
   "metadata": {},
   "outputs": [
    {
     "data": {
      "text/plain": [
       "f_vec_really (generic function with 1 method)"
      ]
     },
     "execution_count": 31,
     "metadata": {},
     "output_type": "execute_result"
    }
   ],
   "source": [
    "function f_vec_really(x)\n",
    "    tmp1 = x.^2\n",
    "    tmp2 = 2 * tmp1\n",
    "    tmp3 = 3 * x\n",
    "    tmp4 = tmp2 - tmp3\n",
    "    tmp5 = tmp4 + 4\n",
    "    return tmp5\n",
    "end"
   ]
  },
  {
   "cell_type": "markdown",
   "metadata": {},
   "source": [
    "That is, each \"vectorized\" operation, like `x.^2`, while it is *individually fast*, does a *separate loop* over its data and *allocates a temporary array for the result*.  This is slow for three reasons:\n",
    "\n",
    "* It has poor temporal locality.\n",
    "* It is expensive to allocate all those temporary arrays.\n",
    "* The overhead of looping (incrementing/testing a counter, fetching elements `x[i]`, etcetera), is incurred multiple times rather than once.\n",
    "\n",
    "In Julia 0.6, there is a new syntax `2 .* x.^2 .- 3 .* x .+ 4` in which the compiler is guaranteed to \"fuse\" the operations into a single loop, allocating no temporary arrays.  In Julia 0.5, we can't do that, but it is sufficient to use `map(f, X)`, which does a single loop over `X`, calling `f(x)` for each element `x`, returning a new array."
   ]
  },
  {
   "cell_type": "code",
   "execution_count": null,
   "metadata": {},
   "outputs": [],
   "source": []
  }
 ],
 "metadata": {
  "kernelspec": {
   "display_name": "Julia 0.5.2",
   "language": "julia",
   "name": "julia-0.5"
  },
  "language_info": {
   "file_extension": ".jl",
   "mimetype": "application/julia",
   "name": "julia",
   "version": "0.5.2"
  }
 },
 "nbformat": 4,
 "nbformat_minor": 1
}
