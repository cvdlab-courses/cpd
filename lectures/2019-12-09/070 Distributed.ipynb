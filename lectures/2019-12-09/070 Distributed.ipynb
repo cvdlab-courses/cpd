{
 "cells": [
  {
   "cell_type": "code",
   "execution_count": 1,
   "metadata": {
    "scrolled": true
   },
   "outputs": [
    {
     "name": "stdout",
     "output_type": "stream",
     "text": [
      "\u001b[32m\u001b[1m  Updating\u001b[22m\u001b[39m registry at `~/.juliapro/JuliaPro_v1.2.0-1/registries/JuliaPro`\n",
      "\u001b[32m\u001b[1m  Updating\u001b[22m\u001b[39m git-repo `https://pkg.juliacomputing.com//registry/JuliaPro`\n",
      "\u001b[2K\u001b[?25h[1mFetching:\u001b[22m\u001b[39m [========================================>]  100.0 %.0 %\u001b[36m\u001b[1mFetching:\u001b[22m\u001b[39m [=======>                                 ]  15.7 %>                        ]  38.0 %>                   ]  52.1 %>           ]  70.8 %\u001b[36m\u001b[1mFetching:\u001b[22m\u001b[39m [=================================>       ]  81.7 %>  ]  94.5 %\u001b[32m\u001b[1m   Cloning\u001b[22m\u001b[39m git-repo `https://github.com/JuliaComputing/JuliaAcademyData.jl`\n",
      "\u001b[2K\u001b[?25h\u001b[32m\u001b[1m  Updating\u001b[22m\u001b[39m git-repo `https://github.com/JuliaComputing/JuliaAcademyData.jl`ng:\u001b[22m\u001b[39m [===============>                         ]  36.1 %\u001b[36m\u001b[1mFetching:\u001b[22m\u001b[39m [===================>                     ]  47.2 %\u001b[36m\u001b[1mFetching:\u001b[22m\u001b[39m [====================>                    ]  49.4 %\u001b[36m\u001b[1mFetching:\u001b[22m\u001b[39m [=====================>                   ]  51.1 %\u001b[36m\u001b[1mFetching:\u001b[22m\u001b[39m [======================>                  ]  52.8 %\u001b[36m\u001b[1mFetching:\u001b[22m\u001b[39m [======================>                  ]  54.5 %\u001b[36m\u001b[1mFetching:\u001b[22m\u001b[39m [=======================>                 ]  56.2 %\u001b[36m\u001b[1mFetching:\u001b[22m\u001b[39m [========================>                ]  57.9 %\u001b[36m\u001b[1mFetching:\u001b[22m\u001b[39m [=========================>               ]  60.1 %\u001b[36m\u001b[1mFetching:\u001b[22m\u001b[39m [=========================>               ]  61.8 %\u001b[36m\u001b[1mFetching:\u001b[22m\u001b[39m [==========================>              ]  63.5 %             ]  65.2 %\u001b[36m\u001b[1mFetching:\u001b[22m\u001b[39m [===========================>             ]  67.4 %\u001b[36m\u001b[1mFetching:\u001b[22m\u001b[39m [============================>            ]  69.1 %\n",
      "\u001b[?25l\u001b[2K\u001b[?25h\u001b[32m\u001b[1m Resolving\u001b[22m\u001b[39m package versions...\n",
      "\u001b[32m\u001b[1m Installed\u001b[22m\u001b[39m CSTParser ──────── v1.0.0\n",
      "\u001b[32m\u001b[1m Installed\u001b[22m\u001b[39m Colors ─────────── v0.9.6\n",
      "\u001b[32m\u001b[1m Installed\u001b[22m\u001b[39m CodeTracking ───── v0.5.8\n",
      "\u001b[32m\u001b[1m Installed\u001b[22m\u001b[39m Parsers ────────── v0.3.10\n",
      "\u001b[32m\u001b[1m Installed\u001b[22m\u001b[39m StringDistances ── v0.4.0\n",
      "\u001b[32m\u001b[1m Installed\u001b[22m\u001b[39m MacroTools ─────── v0.5.2\n",
      "\u001b[32m\u001b[1m Installed\u001b[22m\u001b[39m Compat ─────────── v2.2.0\n",
      "\u001b[32m\u001b[1m Installed\u001b[22m\u001b[39m WebIO ──────────── v0.8.90\n",
      "\u001b[32m\u001b[1m Installed\u001b[22m\u001b[39m Widgets ────────── v0.6.2\n",
      "\u001b[32m\u001b[1m Installed\u001b[22m\u001b[39m Distances ──────── v0.8.2\n",
      "\u001b[32m\u001b[1m Installed\u001b[22m\u001b[39m DataStructures ─── v0.17.6\n",
      "\u001b[32m\u001b[1m Installed\u001b[22m\u001b[39m Tokenize ───────── v0.5.7\n",
      "\u001b[32m\u001b[1m Installed\u001b[22m\u001b[39m JuliaFormatter ─── v0.1.36\n",
      "\u001b[32m\u001b[1m Installed\u001b[22m\u001b[39m DocSeeker ──────── v0.3.1\n",
      "\u001b[32m\u001b[1m Installed\u001b[22m\u001b[39m JuliaInterpreter ─ v0.7.4\n",
      "\u001b[32m\u001b[1m  Updating\u001b[22m\u001b[39m `~/.juliapro/JuliaPro_v1.2.0-1/environments/v1.2/Project.toml`\n",
      " \u001b[90m [18b7da76]\u001b[39m\u001b[92m + JuliaAcademyData v0.1.0 #master (https://github.com/JuliaComputing/JuliaAcademyData.jl)\u001b[39m\n",
      "\u001b[32m\u001b[1m  Updating\u001b[22m\u001b[39m `~/.juliapro/JuliaPro_v1.2.0-1/environments/v1.2/Manifest.toml`\n",
      " \u001b[90m [00ebfdb7]\u001b[39m\u001b[93m ↑ CSTParser v0.6.2 ⇒ v1.0.0\u001b[39m\n",
      " \u001b[90m [da1fd8a2]\u001b[39m\u001b[93m ↑ CodeTracking v0.5.7 ⇒ v0.5.8\u001b[39m\n",
      " \u001b[90m [5ae59095]\u001b[39m\u001b[93m ↑ Colors v0.9.5 ⇒ v0.9.6\u001b[39m\n",
      " \u001b[90m [34da2185]\u001b[39m\u001b[93m ↑ Compat v2.1.0 ⇒ v2.2.0\u001b[39m\n",
      " \u001b[90m [864edb3b]\u001b[39m\u001b[93m ↑ DataStructures v0.17.0 ⇒ v0.17.6\u001b[39m\n",
      " \u001b[90m [b4f34e82]\u001b[39m\u001b[93m ↑ Distances v0.8.0 ⇒ v0.8.2\u001b[39m\n",
      " \u001b[90m [33d173f1]\u001b[39m\u001b[93m ↑ DocSeeker v0.2.0 ⇒ v0.3.1\u001b[39m\n",
      " \u001b[90m [c8e1da08]\u001b[39m\u001b[91m - IterTools v1.2.0\u001b[39m\n",
      " \u001b[90m [18b7da76]\u001b[39m\u001b[92m + JuliaAcademyData v0.1.0 #master (https://github.com/JuliaComputing/JuliaAcademyData.jl)\u001b[39m\n",
      " \u001b[90m [98e50ef6]\u001b[39m\u001b[93m ↑ JuliaFormatter v0.1.1 ⇒ v0.1.36\u001b[39m\n",
      " \u001b[90m [aa1ae85d]\u001b[39m\u001b[93m ↑ JuliaInterpreter v0.6.1 ⇒ v0.7.4\u001b[39m\n",
      " \u001b[90m [1914dd2f]\u001b[39m\u001b[93m ↑ MacroTools v0.5.1 ⇒ v0.5.2\u001b[39m\n",
      " \u001b[90m [69de0a69]\u001b[39m\u001b[93m ↑ Parsers v0.3.6 ⇒ v0.3.10\u001b[39m\n",
      " \u001b[90m [88034a9c]\u001b[39m\u001b[93m ↑ StringDistances v0.3.2 ⇒ v0.4.0\u001b[39m\n",
      " \u001b[90m [0796e94c]\u001b[39m\u001b[93m ↑ Tokenize v0.5.5 ⇒ v0.5.7\u001b[39m\n",
      " \u001b[90m [0f1e0344]\u001b[39m\u001b[93m ↑ WebIO v0.8.9 ⇒ v0.8.90\u001b[39m\n",
      " \u001b[90m [cc8bc4a8]\u001b[39m\u001b[93m ↑ Widgets v0.6.1 ⇒ v0.6.2\u001b[39m\n",
      "\u001b[32m\u001b[1m  Building\u001b[22m\u001b[39m WebIO → `~/.juliapro/JuliaPro_v1.2.0-1/packages/WebIO/HiW4T/deps/build.log`\n"
     ]
    },
    {
     "name": "stderr",
     "output_type": "stream",
     "text": [
      "┌ Info: Precompiling JuliaAcademyData [18b7da76-0988-5e3b-acac-6290be3a708f]\n",
      "└ @ Base loading.jl:1242\n"
     ]
    },
    {
     "name": "stdout",
     "output_type": "stream",
     "text": [
      "\u001b[32m\u001b[1m  Updating\u001b[22m\u001b[39m registry at `~/.juliapro/JuliaPro_v1.2.0-1/registries/JuliaPro`\n",
      "\u001b[32m\u001b[1m  Updating\u001b[22m\u001b[39m git-repo `https://pkg.juliacomputing.com//registry/JuliaPro`\n",
      "\u001b[?25l\u001b[2K\u001b[?25h\u001b[32m\u001b[1m Installed\u001b[22m\u001b[39m CUDAapi ──────────────── v0.6.3\n",
      "\u001b[32m\u001b[1m Installed\u001b[22m\u001b[39m Measures ─────────────── v0.3.0\n",
      "\u001b[32m\u001b[1m Installed\u001b[22m\u001b[39m Hexagons ─────────────── v0.2.0\n",
      "\u001b[32m\u001b[1m Installed\u001b[22m\u001b[39m Hwloc ────────────────── v1.0.0\n",
      "\u001b[32m\u001b[1m Installed\u001b[22m\u001b[39m NNlib ────────────────── v0.5.0\n",
      "\u001b[32m\u001b[1m Installed\u001b[22m\u001b[39m CSTParser ────────────── v0.5.2\n",
      "\u001b[32m\u001b[1m Installed\u001b[22m\u001b[39m Conda ────────────────── v1.2.0\n",
      "\u001b[32m\u001b[1m Installed\u001b[22m\u001b[39m OffsetArrays ─────────── v0.10.0\n",
      "\u001b[32m\u001b[1m Installed\u001b[22m\u001b[39m Rmath ────────────────── v0.5.0\n",
      "\u001b[32m\u001b[1m Installed\u001b[22m\u001b[39m Arpack ───────────────── v0.2.3\n",
      "\u001b[32m\u001b[1m Installed\u001b[22m\u001b[39m NLSolversBase ────────── v7.3.1\n",
      "\u001b[32m\u001b[1m Installed\u001b[22m\u001b[39m IterTools ────────────── v1.1.1\n",
      "\u001b[32m\u001b[1m Installed\u001b[22m\u001b[39m CategoricalArrays ────── v0.5.2\n",
      "\u001b[32m\u001b[1m Installed\u001b[22m\u001b[39m TimerOutputs ─────────── v0.5.0\n",
      "\u001b[32m\u001b[1m Installed\u001b[22m\u001b[39m DiffEqDiffTools ──────── v0.8.1\n",
      "\u001b[32m\u001b[1m Installed\u001b[22m\u001b[39m Juno ─────────────────── v0.7.0\n",
      "\u001b[32m\u001b[1m Installed\u001b[22m\u001b[39m KernelDensity ────────── v0.5.1\n",
      "\u001b[32m\u001b[1m Installed\u001b[22m\u001b[39m ForwardDiff ──────────── v0.10.3\n",
      "\u001b[32m\u001b[1m Installed\u001b[22m\u001b[39m Flux ─────────────────── v0.8.2\n",
      "\u001b[32m\u001b[1m Installed\u001b[22m\u001b[39m NaNMath ──────────────── v0.3.2\n",
      "\u001b[32m\u001b[1m Installed\u001b[22m\u001b[39m ZipFile ──────────────── v0.8.1\n",
      "\u001b[32m\u001b[1m Installed\u001b[22m\u001b[39m Contour ──────────────── v0.5.1\n",
      "\u001b[32m\u001b[1m Installed\u001b[22m\u001b[39m Optim ────────────────── v0.18.1\n",
      "\u001b[32m\u001b[1m Installed\u001b[22m\u001b[39m Crayons ──────────────── v4.0.0\n",
      "\u001b[32m\u001b[1m Installed\u001b[22m\u001b[39m StatsBase ────────────── v0.29.0\n",
      "\u001b[32m\u001b[1m Installed\u001b[22m\u001b[39m ColorTypes ───────────── v0.7.5\n",
      "\u001b[32m\u001b[1m Installed\u001b[22m\u001b[39m CuArrays ─────────────── v1.0.1\n",
      "\u001b[32m\u001b[1m Installed\u001b[22m\u001b[39m LineSearches ─────────── v7.0.1\n",
      "\u001b[32m\u001b[1m Installed\u001b[22m\u001b[39m MacroTools ───────────── v0.5.0\n",
      "\u001b[32m\u001b[1m Installed\u001b[22m\u001b[39m TranscodingStreams ───── v0.9.4\n",
      "\u001b[32m\u001b[1m Installed\u001b[22m\u001b[39m Calculus ─────────────── v0.4.1\n",
      "\u001b[32m\u001b[1m Installed\u001b[22m\u001b[39m IndirectArrays ───────── v0.5.0\n",
      "\u001b[32m\u001b[1m Installed\u001b[22m\u001b[39m CommonSubexpressions ─── v0.2.0\n",
      "\u001b[32m\u001b[1m Installed\u001b[22m\u001b[39m PositiveFactorizations ─ v0.2.1\n",
      "\u001b[32m\u001b[1m Installed\u001b[22m\u001b[39m DocStringExtensions ──── v0.7.0\n",
      "\u001b[32m\u001b[1m Installed\u001b[22m\u001b[39m Missings ─────────────── v0.4.0\n",
      "\u001b[32m\u001b[1m Installed\u001b[22m\u001b[39m FillArrays ───────────── v0.5.0\n",
      "\u001b[32m\u001b[1m Installed\u001b[22m\u001b[39m Tracker ──────────────── v0.1.0\n",
      "\u001b[32m\u001b[1m Installed\u001b[22m\u001b[39m DiffRules ────────────── v0.0.10\n",
      "\u001b[32m\u001b[1m Installed\u001b[22m\u001b[39m Homebrew ─────────────── v0.7.1\n",
      "\u001b[32m\u001b[1m Installed\u001b[22m\u001b[39m DistributedArrays ────── v0.6.0\n",
      "\u001b[32m\u001b[1m Installed\u001b[22m\u001b[39m CUDAdrv ──────────────── v2.0.0\n",
      "\u001b[32m\u001b[1m Installed\u001b[22m\u001b[39m Ratios ───────────────── v0.3.1\n",
      "\u001b[32m\u001b[1m Installed\u001b[22m\u001b[39m Distributions ────────── v0.18.0\n",
      "\u001b[32m\u001b[1m Installed\u001b[22m\u001b[39m DataStructures ───────── v0.15.0\n",
      "\u001b[32m\u001b[1m Installed\u001b[22m\u001b[39m AbstractTrees ────────── v0.2.1\n",
      "\u001b[32m\u001b[1m Installed\u001b[22m\u001b[39m DiffResults ──────────── v0.0.4\n",
      "\u001b[32m\u001b[1m Installed\u001b[22m\u001b[39m StaticArrays ─────────── v0.10.3\n",
      "\u001b[32m\u001b[1m Installed\u001b[22m\u001b[39m PDMats ───────────────── v0.9.6\n",
      "\u001b[32m\u001b[1m Installed\u001b[22m\u001b[39m GPUArrays ────────────── v0.6.1\n",
      "\u001b[32m\u001b[1m Installed\u001b[22m\u001b[39m Adapt ────────────────── v0.4.2\n",
      "\u001b[32m\u001b[1m Installed\u001b[22m\u001b[39m Compose ──────────────── v0.7.3\n",
      "\u001b[32m\u001b[1m Installed\u001b[22m\u001b[39m StatsFuns ────────────── v0.8.0\n",
      "\u001b[32m\u001b[1m Installed\u001b[22m\u001b[39m AbstractFFTs ─────────── v0.4.0\n",
      "\u001b[32m\u001b[1m Installed\u001b[22m\u001b[39m Tokenize ─────────────── v0.5.3\n",
      "\u001b[32m\u001b[1m Installed\u001b[22m\u001b[39m SpecialFunctions ─────── v0.7.0\n",
      "\u001b[32m\u001b[1m Installed\u001b[22m\u001b[39m Parameters ───────────── v0.10.3\n",
      "\u001b[32m\u001b[1m Installed\u001b[22m\u001b[39m Loess ────────────────── v0.5.0\n",
      "\u001b[32m\u001b[1m Installed\u001b[22m\u001b[39m FFTW ─────────────────── v0.2.4\n",
      "\u001b[32m\u001b[1m Installed\u001b[22m\u001b[39m CodecZlib ────────────── v0.5.0\n",
      "\u001b[32m\u001b[1m Installed\u001b[22m\u001b[39m BenchmarkTools ───────── v0.4.2\n",
      "\u001b[32m\u001b[1m Installed\u001b[22m\u001b[39m FixedPointNumbers ────── v0.5.3\n",
      "\u001b[32m\u001b[1m Installed\u001b[22m\u001b[39m WoodburyMatrices ─────── v0.4.1\n",
      "\u001b[32m\u001b[1m Installed\u001b[22m\u001b[39m QuadGK ───────────────── v2.0.3\n",
      "\u001b[32m\u001b[1m Installed\u001b[22m\u001b[39m CoupledFields ────────── v0.1.0\n",
      "\u001b[32m\u001b[1m Installed\u001b[22m\u001b[39m JSON ─────────────────── v0.20.0\n",
      "\u001b[32m\u001b[1m Installed\u001b[22m\u001b[39m Primes ───────────────── v0.4.0\n",
      "\u001b[32m\u001b[1m Installed\u001b[22m\u001b[39m AxisAlgorithms ───────── v0.3.0\n",
      "\u001b[32m\u001b[1m Installed\u001b[22m\u001b[39m BinDeps ──────────────── v0.8.10\n",
      "\u001b[32m\u001b[1m Installed\u001b[22m\u001b[39m SortingAlgorithms ────── v0.3.1\n",
      "\u001b[32m\u001b[1m Installed\u001b[22m\u001b[39m Showoff ──────────────── v0.2.1\n",
      "\u001b[32m\u001b[1m Installed\u001b[22m\u001b[39m LLVM ─────────────────── v1.1.0\n",
      "\u001b[32m\u001b[1m Installed\u001b[22m\u001b[39m CUDAnative ───────────── v2.0.1\n",
      "\u001b[32m\u001b[1m Installed\u001b[22m\u001b[39m Gadfly ───────────────── v1.0.1\n",
      "\u001b[32m\u001b[1m Installed\u001b[22m\u001b[39m Interpolations ───────── v0.11.2\n",
      "\u001b[32m\u001b[1m  Building\u001b[22m\u001b[39m Homebrew ────────→ `~/.juliapro/JuliaPro_v1.2.0-1/packages/Homebrew/s09IX/deps/build.log`\n",
      "\u001b[32m\u001b[1m  Building\u001b[22m\u001b[39m Hwloc ───────────→ `~/.juliapro/JuliaPro_v1.2.0-1/packages/Hwloc/aHXIz/deps/build.log`\n"
     ]
    },
    {
     "name": "stderr",
     "output_type": "stream",
     "text": [
      "┌ Error: Error building `Homebrew`: \n",
      "│ #=#=#                                                                          \r",
      "##O#- #                                                                        \r",
      "##O=#  #                                                                       \r",
      "#=#=-#  #                                                                      \r",
      "-#O#- #   #                                                                    \r",
      "-=#=#   #   #                                                                  \r",
      "\r",
      "                                                                            0.0%\r",
      "                                                                            1.1%\r",
      "##                                                                          3.2%\r",
      "#####                                                                       7.2%\r",
      "###########                                                                15.3%\r",
      "####################                                                       27.4%\r",
      "#############################                                              40.9%\r",
      "############################################                               60.6%\r",
      "################################################################           88.6%\r",
      "######################################################################### 100.0%\n",
      "│ #=#=#                                                                          \r",
      "##O#- #                                                                        \r",
      "##O=#  #                                                                       \r",
      "#=#=-#  #                                                                      \r",
      "-#O#- #   #                                                                    \r",
      "-=#=#   #   #                                                                  \r",
      "-=O#- #  #    #                                                                \r",
      " -=O#- #   #    #                                                              \r",
      "  -=O#- #    #    #                                                            \r",
      "   -=O#-  #    #    #                                                          \r",
      "    -=O=#   #    #    #                                                        \r",
      "     -=O=#    #    #    #                                                      \r",
      "      -=O=-#    #    #    #                                                    \r",
      "       -=O=- #    #    #     #                                                 \r",
      "        -=O=-  #    #    #     #                                               \r",
      "         -=O=-   #    #     #     #                                            \r",
      "          -=O=-    #    #     #     #                                          \r",
      "           -=O=-     #    #     #      #                                       \r",
      "            -=O=-      #     #     #     #                                     \n",
      "│ #=#=#                                                                          \r",
      "##O#- #                                                                        \r",
      "##O=#  #                                                                       \r",
      "#=#=-#  #                                                                      \r",
      "-#O#- #   #                                                                    \r",
      "-=#=#   #   #                                                                  \r",
      "-=O#- #  #    #                                                                \n",
      "│ #=#=#                                                                          \r",
      "##O#- #                                                                        \r",
      "##O=#  #                                                                       \r",
      "#=#=-#  #                                                                      \r",
      "-#O#- #   #                                                                    \r",
      "-=#=#   #   #                                                                  \r",
      "-=O#- #  #    #                                                                \r",
      "-=O=#  #   #    #                                                              \r",
      "-=O=-#  #    #    #                                                            \r",
      "-=O=- #   #    #    #                                                          \r",
      "-=O=-   #   #    #    #                                                        \r",
      "-=O=-    #    #    #    #                                                      \r",
      "-=O=-      #    #    #    #                                                    \r",
      "-=O=-        #    #    #     #                                                 \r",
      "-=O=-          #    #    #     #                                               \r",
      "-=O=-            #    #     #     #                                            \r",
      "-=O=-              #    #     #     #                                          \r",
      "-=O=-                #    #     #      #                                       \r",
      "-=O=-                  #     #     #     #                                     \n",
      "│ [ Info: Downloading brew...\n",
      "│ ERROR: LoadError: InitError: KeyError: key \"10.15\" not found\n",
      "│ Stacktrace:\n",
      "│  [1] getindex at ./dict.jl:477 [inlined]\n",
      "│  [2] osx_version_string() at /Users/paoluzzi/.juliapro/JuliaPro_v1.2.0-1/packages/Homebrew/s09IX/src/API.jl:633\n",
      "│  [3] has_bottle(::String) at /Users/paoluzzi/.juliapro/JuliaPro_v1.2.0-1/packages/Homebrew/s09IX/src/API.jl:654\n",
      "│  [4] #translate_formula#71(::Bool, ::typeof(Homebrew.translate_formula), ::String) at /Users/paoluzzi/.juliapro/JuliaPro_v1.2.0-1/packages/Homebrew/s09IX/src/translation.jl:135\n",
      "│  [5] #translate_formula at ./tuple.jl:0 [inlined]\n",
      "│  [6] #translate_formula#78 at /Users/paoluzzi/.juliapro/JuliaPro_v1.2.0-1/packages/Homebrew/s09IX/src/translation.jl:246 [inlined]\n",
      "│  [7] #translate_formula at ./none:0 [inlined]\n",
      "│  [8] #add#29(::Bool, ::Bool, ::typeof(Homebrew.add), ::String) at /Users/paoluzzi/.juliapro/JuliaPro_v1.2.0-1/packages/Homebrew/s09IX/src/API.jl:425\n",
      "│  [9] add at /Users/paoluzzi/.juliapro/JuliaPro_v1.2.0-1/packages/Homebrew/s09IX/src/API.jl:412 [inlined]\n",
      "│  [10] install_brew() at /Users/paoluzzi/.juliapro/JuliaPro_v1.2.0-1/packages/Homebrew/s09IX/src/private_API.jl:66\n",
      "│  [11] __init__() at /Users/paoluzzi/.juliapro/JuliaPro_v1.2.0-1/packages/Homebrew/s09IX/src/Homebrew.jl:37\n",
      "│  [12] _include_from_serialized(::String, ::Array{Any,1}) at /Applications/JuliaPro-1.2.0-1.app/Contents/Resources/julia/Contents/Resources/julia/lib/julia/sys.dylib:?\n",
      "│  [13] _require_from_serialized(::String) at /Applications/JuliaPro-1.2.0-1.app/Contents/Resources/julia/Contents/Resources/julia/lib/julia/sys.dylib:?\n",
      "│  [14] _require(::Base.PkgId) at /Applications/JuliaPro-1.2.0-1.app/Contents/Resources/julia/Contents/Resources/julia/lib/julia/sys.dylib:?\n",
      "│  [15] require(::Base.PkgId) at /Applications/JuliaPro-1.2.0-1.app/Contents/Resources/julia/Contents/Resources/julia/lib/julia/sys.dylib:? (repeats 2 times)\n",
      "│  [16] top-level scope at /Users/paoluzzi/.juliapro/JuliaPro_v1.2.0-1/packages/Homebrew/s09IX/deps/build.jl:2\n",
      "│  [17] include_relative(::Module, ::String) at /Applications/JuliaPro-1.2.0-1.app/Contents/Resources/julia/Contents/Resources/julia/lib/julia/sys.dylib:?\n",
      "│  [18] include(::Module, ::String) at /Applications/JuliaPro-1.2.0-1.app/Contents/Resources/julia/Contents/Resources/julia/lib/julia/sys.dylib:?\n",
      "│  [19] include(::String) at ./client.jl:431\n",
      "│  [20] top-level scope at none:5\n",
      "│ during initialization of module Homebrew\n",
      "│ in expression starting at /Users/paoluzzi/.juliapro/JuliaPro_v1.2.0-1/packages/Homebrew/s09IX/deps/build.jl:1\n",
      "└ @ Pkg.Operations /Users/vagrant/worker/juliapro-release-osx1011-0_6/build/tmp_julia/Julia-1.2.app/Contents/Resources/julia/share/julia/stdlib/v1.2/Pkg/src/Operations.jl:1138\n"
     ]
    },
    {
     "ename": "SystemError",
     "evalue": "SystemError: opening file \"/Users/paoluzzi/.juliapro/JuliaPro_v1.2.0-1/packages/Hwloc/aHXIz/deps/build.log\": Permission denied",
     "output_type": "error",
     "traceback": [
      "SystemError: opening file \"/Users/paoluzzi/.juliapro/JuliaPro_v1.2.0-1/packages/Hwloc/aHXIz/deps/build.log\": Permission denied",
      "",
      "Stacktrace:",
      " [1] #systemerror#44(::Nothing, ::typeof(systemerror), ::String, ::Bool) at /Applications/JuliaPro-1.2.0-1.app/Contents/Resources/julia/Contents/Resources/julia/lib/julia/sys.dylib:?",
      " [2] #open#311(::Nothing, ::Nothing, ::Nothing, ::Bool, ::Nothing, ::typeof(open), ::String) at /Applications/JuliaPro-1.2.0-1.app/Contents/Resources/julia/Contents/Resources/julia/lib/julia/sys.dylib:?",
      " [3] open(::String, ::String) at /Applications/JuliaPro-1.2.0-1.app/Contents/Resources/julia/Contents/Resources/julia/lib/julia/sys.dylib:?",
      " [4] #open#312(::Base.Iterators.Pairs{Union{},Union{},Tuple{},NamedTuple{(),Tuple{}}}, ::typeof(open), ::getfield(Pkg.Operations, Symbol(\"##52#57\")){Bool,Cmd}, ::String, ::Vararg{String,N} where N) at ./iostream.jl:373",
      " [5] open at ./iostream.jl:373 [inlined]",
      " [6] (::getfield(Pkg.Operations, Symbol(\"##51#56\")){Bool,String,Cmd,String})() at /Users/vagrant/worker/juliapro-release-osx1011-0_6/build/tmp_julia/Julia-1.2.app/Contents/Resources/julia/share/julia/stdlib/v1.2/Pkg/src/Operations.jl:1123",
      " [7] #53 at /Users/vagrant/worker/juliapro-release-osx1011-0_6/build/tmp_julia/Julia-1.2.app/Contents/Resources/julia/share/julia/stdlib/v1.2/Pkg/src/Operations.jl:1143 [inlined]",
      " [8] #41 at /Users/vagrant/worker/juliapro-release-osx1011-0_6/build/tmp_julia/Julia-1.2.app/Contents/Resources/julia/share/julia/stdlib/v1.2/Pkg/src/Operations.jl:961 [inlined]",
      " [9] withenv(::getfield(Pkg.Operations, Symbol(\"##41#46\")){getfield(Pkg.Operations, Symbol(\"##53#58\")){getfield(Pkg.Operations, Symbol(\"##51#56\")){Bool,String,Cmd,String}},Pkg.Types.Context}, ::Pair{String,String}, ::Pair{String,Nothing}) at ./env.jl:161",
      " [10] (::getfield(Pkg.Operations, Symbol(\"##40#44\")){Bool,getfield(Pkg.Operations, Symbol(\"##53#58\")){getfield(Pkg.Operations, Symbol(\"##51#56\")){Bool,String,Cmd,String}},Pkg.Types.Context,Pkg.Types.PackageSpec,Pkg.Types.Context,Array{Pkg.Types.PackageSpec,1}})(::String) at /Users/vagrant/worker/juliapro-release-osx1011-0_6/build/tmp_julia/Julia-1.2.app/Contents/Resources/julia/share/julia/stdlib/v1.2/Pkg/src/Operations.jl:960",
      " [11] #mktempdir#15(::String, ::typeof(mktempdir), ::getfield(Pkg.Operations, Symbol(\"##40#44\")){Bool,getfield(Pkg.Operations, Symbol(\"##53#58\")){getfield(Pkg.Operations, Symbol(\"##51#56\")){Bool,String,Cmd,String}},Pkg.Types.Context,Pkg.Types.PackageSpec,Pkg.Types.Context,Array{Pkg.Types.PackageSpec,1}}, ::String) at ./file.jl:584",
      " [12] mktempdir(::Function, ::String) at ./file.jl:582 (repeats 2 times)",
      " [13] #with_dependencies_loadable_at_toplevel#38(::Bool, ::typeof(Pkg.Operations.with_dependencies_loadable_at_toplevel), ::getfield(Pkg.Operations, Symbol(\"##53#58\")){getfield(Pkg.Operations, Symbol(\"##51#56\")){Bool,String,Cmd,String}}, ::Pkg.Types.Context, ::Pkg.Types.PackageSpec) at /Users/vagrant/worker/juliapro-release-osx1011-0_6/build/tmp_julia/Julia-1.2.app/Contents/Resources/julia/share/julia/stdlib/v1.2/Pkg/src/Operations.jl:916",
      " [14] (::getfield(Pkg.Operations, Symbol(\"#kw##with_dependencies_loadable_at_toplevel\")))(::NamedTuple{(:might_need_to_resolve,),Tuple{Bool}}, ::typeof(Pkg.Operations.with_dependencies_loadable_at_toplevel), ::Function, ::Pkg.Types.Context, ::Pkg.Types.PackageSpec) at ./none:0",
      " [15] #build_versions#48(::Bool, ::Bool, ::typeof(Pkg.Operations.build_versions), ::Pkg.Types.Context, ::Array{Base.UUID,1}) at /Users/vagrant/worker/juliapro-release-osx1011-0_6/build/tmp_julia/Julia-1.2.app/Contents/Resources/julia/share/julia/stdlib/v1.2/Pkg/src/Operations.jl:1141",
      " [16] build_versions at /Users/vagrant/worker/juliapro-release-osx1011-0_6/build/tmp_julia/Julia-1.2.app/Contents/Resources/julia/share/julia/stdlib/v1.2/Pkg/src/Operations.jl:1075 [inlined]",
      " [17] #instantiate#67(::Nothing, ::Base.Iterators.Pairs{Union{},Union{},Tuple{},NamedTuple{(),Tuple{}}}, ::typeof(Pkg.API.instantiate), ::Pkg.Types.Context) at /Users/vagrant/worker/juliapro-release-osx1011-0_6/build/tmp_julia/Julia-1.2.app/Contents/Resources/julia/share/julia/stdlib/v1.2/Pkg/src/API.jl:473",
      " [18] instantiate at /Users/vagrant/worker/juliapro-release-osx1011-0_6/build/tmp_julia/Julia-1.2.app/Contents/Resources/julia/share/julia/stdlib/v1.2/Pkg/src/API.jl:442 [inlined]",
      " [19] #instantiate#66 at /Users/vagrant/worker/juliapro-release-osx1011-0_6/build/tmp_julia/Julia-1.2.app/Contents/Resources/julia/share/julia/stdlib/v1.2/Pkg/src/API.jl:440 [inlined]",
      " [20] instantiate at /Users/vagrant/worker/juliapro-release-osx1011-0_6/build/tmp_julia/Julia-1.2.app/Contents/Resources/julia/share/julia/stdlib/v1.2/Pkg/src/API.jl:440 [inlined]",
      " [21] activate(::String) at /Users/paoluzzi/.juliapro/JuliaPro_v1.2.0-1/packages/JuliaAcademyData/II8LR/src/JuliaAcademyData.jl:30",
      " [22] top-level scope at In[1]:2"
     ]
    }
   ],
   "source": [
    "import Pkg; Pkg.add(Pkg.PackageSpec(url=\"https://github.com/JuliaComputing/JuliaAcademyData.jl\"))\n",
    "using JuliaAcademyData; activate(\"Parallel_Computing\")"
   ]
  },
  {
   "cell_type": "markdown",
   "metadata": {},
   "source": [
    "# Distributed (or multi-core or multi-process) parallelism\n",
    "\n",
    "Julia has a built-in standard library — Distributed — that allows you to\n",
    "start and run multiple concurrent Julia processes. Imagine starting a slew\n",
    "of Julia instances and then having an easy way to run code on each and every\n",
    "one of them; that's what Distributed provides.\n",
    "\n",
    "![](https://raw.githubusercontent.com/JuliaComputing/JuliaAcademyData.jl/master/courses/Parallel_Computing/images/Julia6x.png)"
   ]
  },
  {
   "cell_type": "code",
   "execution_count": 2,
   "metadata": {},
   "outputs": [
    {
     "data": {
      "text/plain": [
       "1"
      ]
     },
     "execution_count": 2,
     "metadata": {},
     "output_type": "execute_result"
    }
   ],
   "source": [
    "using Distributed\n",
    "nprocs()"
   ]
  },
  {
   "cell_type": "code",
   "execution_count": 3,
   "metadata": {},
   "outputs": [
    {
     "data": {
      "text/plain": [
       "5"
      ]
     },
     "execution_count": 3,
     "metadata": {},
     "output_type": "execute_result"
    }
   ],
   "source": [
    "addprocs(4)\n",
    "@sync @everywhere workers() include(\"/opt/julia-1.0/etc/julia/startup.jl\") # Needed just for JuliaBox\n",
    "nprocs()"
   ]
  },
  {
   "cell_type": "code",
   "execution_count": 4,
   "metadata": {},
   "outputs": [
    {
     "data": {
      "text/plain": [
       "1"
      ]
     },
     "execution_count": 4,
     "metadata": {},
     "output_type": "execute_result"
    }
   ],
   "source": [
    "myid()"
   ]
  },
  {
   "cell_type": "markdown",
   "metadata": {},
   "source": [
    "Now we can easily communicate with the other nodes:"
   ]
  },
  {
   "cell_type": "code",
   "execution_count": 5,
   "metadata": {},
   "outputs": [
    {
     "data": {
      "text/plain": [
       "Future(2, 1, 14, nothing)"
      ]
     },
     "execution_count": 5,
     "metadata": {},
     "output_type": "execute_result"
    }
   ],
   "source": [
    "r = @spawnat 2 (myid(), rand())"
   ]
  },
  {
   "cell_type": "code",
   "execution_count": 6,
   "metadata": {},
   "outputs": [
    {
     "data": {
      "text/plain": [
       "(2, 0.3577998139355627)"
      ]
     },
     "execution_count": 6,
     "metadata": {},
     "output_type": "execute_result"
    }
   ],
   "source": [
    "fetch(r)"
   ]
  },
  {
   "cell_type": "markdown",
   "metadata": {},
   "source": [
    "This works kinda like an `@async` task!"
   ]
  },
  {
   "cell_type": "code",
   "execution_count": 7,
   "metadata": {},
   "outputs": [
    {
     "name": "stdout",
     "output_type": "stream",
     "text": [
      "  0.000270 seconds (116 allocations: 6.698 KiB)\n",
      "  1.157857 seconds (43.87 k allocations: 2.225 MiB, 0.51% gc time)\n"
     ]
    },
    {
     "data": {
      "text/plain": [
       "(nothing, 0.6245654714411526)"
      ]
     },
     "execution_count": 7,
     "metadata": {},
     "output_type": "execute_result"
    }
   ],
   "source": [
    "@time r = @spawnat 2 (sleep(1), rand())\n",
    "@time fetch(r)"
   ]
  },
  {
   "cell_type": "markdown",
   "metadata": {},
   "source": [
    "So we can repeat the same examples from tasks:"
   ]
  },
  {
   "cell_type": "code",
   "execution_count": 9,
   "metadata": {},
   "outputs": [
    {
     "name": "stdout",
     "output_type": "stream",
     "text": [
      "  0.000820 seconds (348 allocations: 20.109 KiB)\n"
     ]
    }
   ],
   "source": [
    "@time for i in 2:nprocs() # proc 1 is the controlling node\n",
    "    @spawnat i sleep(1)\n",
    "end"
   ]
  },
  {
   "cell_type": "code",
   "execution_count": 10,
   "metadata": {},
   "outputs": [
    {
     "name": "stdout",
     "output_type": "stream",
     "text": [
      "  1.200191 seconds (43.91 k allocations: 2.204 MiB)\n"
     ]
    }
   ],
   "source": [
    "@time @sync for i in 2:nprocs()\n",
    "    @spawnat i sleep(1)\n",
    "end"
   ]
  },
  {
   "cell_type": "markdown",
   "metadata": {},
   "source": [
    "Except unlike tasks, we're executing the code on a separate process — which\n",
    "can be performed on a different processor in parallel!"
   ]
  },
  {
   "cell_type": "code",
   "execution_count": 11,
   "metadata": {},
   "outputs": [],
   "source": [
    "@everywhere function work(N)\n",
    "    series = 1.0\n",
    "    for i in 1:N\n",
    "        series += (isodd(i) ? -1 : 1) / (i*2+1)\n",
    "    end\n",
    "    return 4*series\n",
    "end"
   ]
  },
  {
   "cell_type": "code",
   "execution_count": 12,
   "metadata": {},
   "outputs": [
    {
     "name": "stdout",
     "output_type": "stream",
     "text": [
      "  4.373346 seconds (31.00 k allocations: 1.705 MiB)\n",
      "  4.839907 seconds (1.43 k allocations: 67.359 KiB)\n"
     ]
    }
   ],
   "source": [
    "@time work(1_000_000_000)\n",
    "@time @sync for i in workers()\n",
    "    @spawnat i work(1_000_000_000)\n",
    "end"
   ]
  },
  {
   "cell_type": "markdown",
   "metadata": {},
   "source": [
    "Of course, this isn't very helpful. We're just performing exactly the same\n",
    "calculation on every worker... and then completely ignoring the result! Let's\n",
    "restructure our computation to be a bit more parallel friendly:"
   ]
  },
  {
   "cell_type": "code",
   "execution_count": 13,
   "metadata": {},
   "outputs": [
    {
     "data": {
      "text/plain": [
       "(3.140592653839794, -0.000999999749998981)"
      ]
     },
     "execution_count": 13,
     "metadata": {},
     "output_type": "execute_result"
    }
   ],
   "source": [
    "@everywhere function partial_pi(r)\n",
    "    series = 0.0\n",
    "    for i in r\n",
    "        series += (isodd(i) ? -1 : 1) / (i*2+1)\n",
    "    end\n",
    "    return 4*series\n",
    "end\n",
    "a = partial_pi(0:999)\n",
    "a, a-pi"
   ]
  },
  {
   "cell_type": "code",
   "execution_count": 15,
   "metadata": {},
   "outputs": [
    {
     "data": {
      "text/plain": [
       "(3.1414926535900443, -9.999999974885654e-5)"
      ]
     },
     "execution_count": 15,
     "metadata": {},
     "output_type": "execute_result"
    }
   ],
   "source": [
    "b = partial_pi(1000:9999)\n",
    "(a + b), (a+b) - pi"
   ]
  },
  {
   "cell_type": "markdown",
   "metadata": {},
   "source": [
    "So now we can distribute this computation across our many workers!"
   ]
  },
  {
   "cell_type": "code",
   "execution_count": 16,
   "metadata": {},
   "outputs": [
    {
     "name": "stdout",
     "output_type": "stream",
     "text": [
      " 11.799564 seconds (442.28 k allocations: 23.116 MiB, 0.05% gc time)\n"
     ]
    },
    {
     "data": {
      "text/plain": [
       "-1.0152234608540311e-10"
      ]
     },
     "execution_count": 16,
     "metadata": {},
     "output_type": "execute_result"
    }
   ],
   "source": [
    "r = 0:10_000_000_000\n",
    "futures = Array{Future}(undef, nworkers())\n",
    "@time begin\n",
    "    for (i, id) in enumerate(workers())\n",
    "        batch = 0:length(r)÷nworkers()-1\n",
    "        futures[i] = @spawnat id partial_pi(batch .+ (i-1)*(length(r)÷nworkers()))\n",
    "    end\n",
    "    p = sum(fetch.(futures))\n",
    "end\n",
    "p - pi"
   ]
  },
  {
   "cell_type": "code",
   "execution_count": 23,
   "metadata": {},
   "outputs": [
    {
     "data": {
      "text/plain": [
       "(3.1415926534882708, 3.141592653589793)"
      ]
     },
     "execution_count": 23,
     "metadata": {},
     "output_type": "execute_result"
    }
   ],
   "source": [
    "p,0. + π"
   ]
  },
  {
   "cell_type": "markdown",
   "metadata": {},
   "source": [
    "But that's rather annoying — needing to carefully divide up our workflow and\n",
    "manually collect all our results and such.  There's an easier way:"
   ]
  },
  {
   "cell_type": "code",
   "execution_count": 24,
   "metadata": {},
   "outputs": [
    {
     "name": "stdout",
     "output_type": "stream",
     "text": [
      " 12.188914 seconds (1.11 M allocations: 72.572 MiB, 0.89% gc time)\n"
     ]
    },
    {
     "data": {
      "text/plain": [
       "-9.940004375152967e-11"
      ]
     },
     "execution_count": 24,
     "metadata": {},
     "output_type": "execute_result"
    }
   ],
   "source": [
    "@time p = @distributed (+) for r in [(0:9999) .+ offset for offset in 0:10000:r[end]-1]\n",
    "    partial_pi(r)\n",
    "end\n",
    "p - pi"
   ]
  },
  {
   "cell_type": "markdown",
   "metadata": {},
   "source": [
    "Why is this different from `@threads for` and `@simd for`? Why not just\n",
    "`@distributed for`?  Why the `@distributed (+) for`?"
   ]
  },
  {
   "cell_type": "markdown",
   "metadata": {},
   "source": [
    "## Data movement"
   ]
  },
  {
   "cell_type": "markdown",
   "metadata": {},
   "source": [
    "Remember: Moving data is _expensive_!\n",
    "\n",
    "| System Event                   | Actual Latency | Scaled Latency |\n",
    "| ------------------------------ | -------------- | -------------- |\n",
    "| One CPU cycle                  |     0.4 ns     |     1 s        |\n",
    "| Level 1 cache access           |     0.9 ns     |     2 s        |\n",
    "| Level 2 cache access           |     2.8 ns     |     7 s        |\n",
    "| Level 3 cache access           |      28 ns     |     1 min      |\n",
    "| Main memory access (DDR DIMM)  |    ~100 ns     |     4 min      |\n",
    "| Intel Optane memory access     |     <10 μs     |     7 hrs      |\n",
    "| NVMe SSD I/O                   |     ~25 μs     |    17 hrs      |\n",
    "| SSD I/O                        |  50–150 μs     | 1.5–4 days     |\n",
    "| Rotational disk I/O            |    1–10 ms     |   1–9 months   |\n",
    "| Internet call: SF to NYC       |      65 ms     |     5 years    |\n",
    "| Internet call: SF to Hong Kong |     141 ms     |    11 years    |\n",
    "\n",
    "You really don't want to be taking a trip to the moon very frequently.\n",
    "Communication between processes can indeed be as expensive as hitting a disk —\n",
    "sometimes they're even implemented that way.\n",
    "\n",
    "So that's why Julia has special support for reductions built in to the\n",
    "`@distributed` macro: each worker can do its own (intermediate) reduction\n",
    "before returning just one value to our master node."
   ]
  },
  {
   "cell_type": "markdown",
   "metadata": {},
   "source": [
    "But sometimes you need to see those intermediate values. If you have a\n",
    "very expensive computation relative to the communication overhead, there are\n",
    "several ways to do this. The easiest is `pmap`:"
   ]
  },
  {
   "cell_type": "code",
   "execution_count": 25,
   "metadata": {},
   "outputs": [
    {
     "name": "stdout",
     "output_type": "stream",
     "text": [
      " 20.836519 seconds (10.18 M allocations: 342.269 MiB, 0.66% gc time)\n"
     ]
    },
    {
     "data": {
      "text/plain": [
       "100000-element Array{Float64,1}:\n",
       " 3.1415826535897198    \n",
       " 4.999999999780955e-6  \n",
       " 1.6666666666445866e-6 \n",
       " 8.333333333280828e-7  \n",
       " 4.999999999980979e-7  \n",
       " 3.3333333333228886e-7 \n",
       " 2.3809523809478275e-7 \n",
       " 1.7857142857115218e-7 \n",
       " 1.3888888888875312e-7 \n",
       " 1.1111111111103951e-7 \n",
       " 9.090909090911855e-8  \n",
       " 7.575757575759043e-8  \n",
       " 6.410256410254195e-8  \n",
       " ⋮                     \n",
       " 1.0002300392212729e-15\n",
       " 1.0002100347887365e-15\n",
       " 1.0001900271250258e-15\n",
       " 1.0001700234938206e-15\n",
       " 1.0001500160110557e-15\n",
       " 1.0001300152749827e-15\n",
       " 1.000110006034459e-15 \n",
       " 1.0000900041093138e-15\n",
       " 1.0000700028304034e-15\n",
       " 1.0000500022235774e-15\n",
       " 1.000029998049535e-15 \n",
       " 1.000010000079347e-15 "
      ]
     },
     "execution_count": 25,
     "metadata": {},
     "output_type": "execute_result"
    }
   ],
   "source": [
    "@time pmap(partial_pi, [(0:99999) .+ offset for offset in 0:100000:r[end]-1])"
   ]
  },
  {
   "cell_type": "markdown",
   "metadata": {},
   "source": [
    "But if we have a large computation relative to the number of return values,\n",
    "pmap is great and easy.\n",
    "\n",
    "Increase the work on each worker by 100x and reduce the amount of communication by 100x:"
   ]
  },
  {
   "cell_type": "code",
   "execution_count": 26,
   "metadata": {},
   "outputs": [
    {
     "name": "stdout",
     "output_type": "stream",
     "text": [
      " 12.406665 seconds (170.51 k allocations: 6.801 MiB)\n"
     ]
    },
    {
     "data": {
      "text/plain": [
       "1000-element Array{Float64,1}:\n",
       " 3.1415925535897915    \n",
       " 4.9999999999967625e-8 \n",
       " 1.6666666666683624e-8 \n",
       " 8.333333333630988e-9  \n",
       " 5.000000000014345e-9  \n",
       " 3.333333333330306e-9  \n",
       " 2.3809523814998224e-9 \n",
       " 1.7857142857113054e-9 \n",
       " 1.3888888888936273e-9 \n",
       " 1.111111111107229e-9  \n",
       " 9.09090909089179e-10  \n",
       " 7.575757575755141e-10 \n",
       " 6.410256410217499e-10 \n",
       " ⋮                     \n",
       " 1.0234031840540388e-13\n",
       " 1.021335702983439e-13 \n",
       " 1.0192744799477636e-13\n",
       " 1.0172194917187468e-13\n",
       " 1.0151707113535652e-13\n",
       " 1.013128113994666e-13 \n",
       " 1.0110916758200228e-13\n",
       " 1.0090613714424288e-13\n",
       " 1.0070371752733102e-13\n",
       " 1.0050190652654602e-13\n",
       " 1.0030070151409018e-13\n",
       " 1.0010010009995436e-13"
      ]
     },
     "execution_count": 26,
     "metadata": {},
     "output_type": "execute_result"
    }
   ],
   "source": [
    "@time pmap(partial_pi, [(0:9999999) .+ offset for offset in 0:10000000:r[end]-1])"
   ]
  },
  {
   "cell_type": "markdown",
   "metadata": {},
   "source": [
    "There are other ways of doing this, though, too — we'll get to them in a minute.\n",
    "But first, there's something else that I glossed over: the `@everywhere`s above."
   ]
  },
  {
   "cell_type": "markdown",
   "metadata": {},
   "source": [
    "## Code movement"
   ]
  },
  {
   "cell_type": "markdown",
   "metadata": {},
   "source": [
    "Each node is _completely_ independent; it's like starting brand new, separate\n",
    "Julia processes yourself. By default, `addprocs()` just launches the\n",
    "appropriate number of workers for the current workstation that you're on, but\n",
    "you can easily connect them to remote machines via SSH or even through cluster\n",
    "managers."
   ]
  },
  {
   "cell_type": "markdown",
   "metadata": {},
   "source": [
    "Those `@everywhere`s above are very important! They run the given expression\n",
    "on all workers to make sure the state between them is consistent. Without it,\n",
    "you'll see errors like this:"
   ]
  },
  {
   "cell_type": "code",
   "execution_count": 27,
   "metadata": {},
   "outputs": [
    {
     "data": {
      "text/plain": [
       "Future(2, 1, 101070, nothing)"
      ]
     },
     "execution_count": 27,
     "metadata": {},
     "output_type": "execute_result"
    }
   ],
   "source": [
    "hello() = \"hello world\"\n",
    "r = @spawnat 2 hello()"
   ]
  },
  {
   "cell_type": "code",
   "execution_count": 28,
   "metadata": {},
   "outputs": [
    {
     "ename": "RemoteException",
     "evalue": "On worker 2:\nUndefVarError: #hello not defined\ndeserialize_datatype at /Applications/JuliaPro-1.2.0-1.app/Contents/Resources/julia/Contents/Resources/julia/lib/julia/sys.dylib:?\nhandle_deserialize at /Applications/JuliaPro-1.2.0-1.app/Contents/Resources/julia/Contents/Resources/julia/lib/julia/sys.dylib:?\ndeserialize at /Applications/JuliaPro-1.2.0-1.app/Contents/Resources/julia/Contents/Resources/julia/lib/julia/sys.dylib:?\nhandle_deserialize at /Applications/JuliaPro-1.2.0-1.app/Contents/Resources/julia/Contents/Resources/julia/lib/julia/sys.dylib:?\ndeserialize_global_from_main at /Users/vagrant/worker/juliapro-release-osx1011-0_6/build/tmp_julia/Julia-1.2.app/Contents/Resources/julia/share/julia/stdlib/v1.2/Serialization/src/Serialization.jl:722\n#5 at /Users/vagrant/worker/juliapro-release-osx1011-0_6/build/tmp_julia/Julia-1.2.app/Contents/Resources/julia/share/julia/stdlib/v1.2/Distributed/src/clusterserialize.jl:72 [inlined]\nforeach at ./abstractarray.jl:1920\ndeserialize at /Users/vagrant/worker/juliapro-release-osx1011-0_6/build/tmp_julia/Julia-1.2.app/Contents/Resources/julia/share/julia/stdlib/v1.2/Distributed/src/clusterserialize.jl:72\nhandle_deserialize at /Applications/JuliaPro-1.2.0-1.app/Contents/Resources/julia/Contents/Resources/julia/lib/julia/sys.dylib:?\ndeserialize at /Applications/JuliaPro-1.2.0-1.app/Contents/Resources/julia/Contents/Resources/julia/lib/julia/sys.dylib:?\nhandle_deserialize at /Applications/JuliaPro-1.2.0-1.app/Contents/Resources/julia/Contents/Resources/julia/lib/julia/sys.dylib:?\ndeserialize at /Applications/JuliaPro-1.2.0-1.app/Contents/Resources/julia/Contents/Resources/julia/lib/julia/sys.dylib:?\nhandle_deserialize at /Applications/JuliaPro-1.2.0-1.app/Contents/Resources/julia/Contents/Resources/julia/lib/julia/sys.dylib:?\ndeserialize_msg at /Applications/JuliaPro-1.2.0-1.app/Contents/Resources/julia/Contents/Resources/julia/lib/julia/sys.dylib:?\nmessage_handler_loop at /Applications/JuliaPro-1.2.0-1.app/Contents/Resources/julia/Contents/Resources/julia/lib/julia/sys.dylib:?\nprocess_tcp_streams at /Applications/JuliaPro-1.2.0-1.app/Contents/Resources/julia/Contents/Resources/julia/lib/julia/sys.dylib:?\n#105 at ./task.jl:268",
     "output_type": "error",
     "traceback": [
      "On worker 2:\nUndefVarError: #hello not defined\ndeserialize_datatype at /Applications/JuliaPro-1.2.0-1.app/Contents/Resources/julia/Contents/Resources/julia/lib/julia/sys.dylib:?\nhandle_deserialize at /Applications/JuliaPro-1.2.0-1.app/Contents/Resources/julia/Contents/Resources/julia/lib/julia/sys.dylib:?\ndeserialize at /Applications/JuliaPro-1.2.0-1.app/Contents/Resources/julia/Contents/Resources/julia/lib/julia/sys.dylib:?\nhandle_deserialize at /Applications/JuliaPro-1.2.0-1.app/Contents/Resources/julia/Contents/Resources/julia/lib/julia/sys.dylib:?\ndeserialize_global_from_main at /Users/vagrant/worker/juliapro-release-osx1011-0_6/build/tmp_julia/Julia-1.2.app/Contents/Resources/julia/share/julia/stdlib/v1.2/Serialization/src/Serialization.jl:722\n#5 at /Users/vagrant/worker/juliapro-release-osx1011-0_6/build/tmp_julia/Julia-1.2.app/Contents/Resources/julia/share/julia/stdlib/v1.2/Distributed/src/clusterserialize.jl:72 [inlined]\nforeach at ./abstractarray.jl:1920\ndeserialize at /Users/vagrant/worker/juliapro-release-osx1011-0_6/build/tmp_julia/Julia-1.2.app/Contents/Resources/julia/share/julia/stdlib/v1.2/Distributed/src/clusterserialize.jl:72\nhandle_deserialize at /Applications/JuliaPro-1.2.0-1.app/Contents/Resources/julia/Contents/Resources/julia/lib/julia/sys.dylib:?\ndeserialize at /Applications/JuliaPro-1.2.0-1.app/Contents/Resources/julia/Contents/Resources/julia/lib/julia/sys.dylib:?\nhandle_deserialize at /Applications/JuliaPro-1.2.0-1.app/Contents/Resources/julia/Contents/Resources/julia/lib/julia/sys.dylib:?\ndeserialize at /Applications/JuliaPro-1.2.0-1.app/Contents/Resources/julia/Contents/Resources/julia/lib/julia/sys.dylib:?\nhandle_deserialize at /Applications/JuliaPro-1.2.0-1.app/Contents/Resources/julia/Contents/Resources/julia/lib/julia/sys.dylib:?\ndeserialize_msg at /Applications/JuliaPro-1.2.0-1.app/Contents/Resources/julia/Contents/Resources/julia/lib/julia/sys.dylib:?\nmessage_handler_loop at /Applications/JuliaPro-1.2.0-1.app/Contents/Resources/julia/Contents/Resources/julia/lib/julia/sys.dylib:?\nprocess_tcp_streams at /Applications/JuliaPro-1.2.0-1.app/Contents/Resources/julia/Contents/Resources/julia/lib/julia/sys.dylib:?\n#105 at ./task.jl:268",
      "",
      "Stacktrace:",
      " [1] #remotecall_fetch#149 at /Users/vagrant/worker/juliapro-release-osx1011-0_6/build/tmp_julia/Julia-1.2.app/Contents/Resources/julia/share/julia/stdlib/v1.2/Distributed/src/remotecall.jl:379 [inlined]",
      " [2] remotecall_fetch(::Function, ::Distributed.Worker, ::Distributed.RRID) at /Users/vagrant/worker/juliapro-release-osx1011-0_6/build/tmp_julia/Julia-1.2.app/Contents/Resources/julia/share/julia/stdlib/v1.2/Distributed/src/remotecall.jl:371",
      " [3] #remotecall_fetch#152 at /Users/vagrant/worker/juliapro-release-osx1011-0_6/build/tmp_julia/Julia-1.2.app/Contents/Resources/julia/share/julia/stdlib/v1.2/Distributed/src/remotecall.jl:406 [inlined]",
      " [4] remotecall_fetch at /Users/vagrant/worker/juliapro-release-osx1011-0_6/build/tmp_julia/Julia-1.2.app/Contents/Resources/julia/share/julia/stdlib/v1.2/Distributed/src/remotecall.jl:406 [inlined]",
      " [5] call_on_owner at /Users/vagrant/worker/juliapro-release-osx1011-0_6/build/tmp_julia/Julia-1.2.app/Contents/Resources/julia/share/julia/stdlib/v1.2/Distributed/src/remotecall.jl:479 [inlined]",
      " [6] fetch(::Future) at /Users/vagrant/worker/juliapro-release-osx1011-0_6/build/tmp_julia/Julia-1.2.app/Contents/Resources/julia/share/julia/stdlib/v1.2/Distributed/src/remotecall.jl:518",
      " [7] top-level scope at In[28]:1"
     ]
    }
   ],
   "source": [
    "fetch(r)"
   ]
  },
  {
   "cell_type": "markdown",
   "metadata": {},
   "source": [
    "Note that this applies to packages, too!"
   ]
  },
  {
   "cell_type": "code",
   "execution_count": 29,
   "metadata": {},
   "outputs": [
    {
     "ename": "RemoteException",
     "evalue": "On worker 2:\nUndefVarError: mean not defined\n#27 at /Users/vagrant/worker/juliapro-release-osx1011-0_6/build/tmp_julia/Julia-1.2.app/Contents/Resources/julia/share/julia/stdlib/v1.2/Distributed/src/macros.jl:73\n#109 at /Users/vagrant/worker/juliapro-release-osx1011-0_6/build/tmp_julia/Julia-1.2.app/Contents/Resources/julia/share/julia/stdlib/v1.2/Distributed/src/process_messages.jl:288\nrun_work_thunk at /Users/vagrant/worker/juliapro-release-osx1011-0_6/build/tmp_julia/Julia-1.2.app/Contents/Resources/julia/share/julia/stdlib/v1.2/Distributed/src/process_messages.jl:79\nrun_work_thunk at /Users/vagrant/worker/juliapro-release-osx1011-0_6/build/tmp_julia/Julia-1.2.app/Contents/Resources/julia/share/julia/stdlib/v1.2/Distributed/src/process_messages.jl:88\n#102 at ./task.jl:268",
     "output_type": "error",
     "traceback": [
      "On worker 2:\nUndefVarError: mean not defined\n#27 at /Users/vagrant/worker/juliapro-release-osx1011-0_6/build/tmp_julia/Julia-1.2.app/Contents/Resources/julia/share/julia/stdlib/v1.2/Distributed/src/macros.jl:73\n#109 at /Users/vagrant/worker/juliapro-release-osx1011-0_6/build/tmp_julia/Julia-1.2.app/Contents/Resources/julia/share/julia/stdlib/v1.2/Distributed/src/process_messages.jl:288\nrun_work_thunk at /Users/vagrant/worker/juliapro-release-osx1011-0_6/build/tmp_julia/Julia-1.2.app/Contents/Resources/julia/share/julia/stdlib/v1.2/Distributed/src/process_messages.jl:79\nrun_work_thunk at /Users/vagrant/worker/juliapro-release-osx1011-0_6/build/tmp_julia/Julia-1.2.app/Contents/Resources/julia/share/julia/stdlib/v1.2/Distributed/src/process_messages.jl:88\n#102 at ./task.jl:268",
      "",
      "Stacktrace:",
      " [1] #remotecall_fetch#149 at /Users/vagrant/worker/juliapro-release-osx1011-0_6/build/tmp_julia/Julia-1.2.app/Contents/Resources/julia/share/julia/stdlib/v1.2/Distributed/src/remotecall.jl:379 [inlined]",
      " [2] remotecall_fetch(::Function, ::Distributed.Worker, ::Distributed.RRID) at /Users/vagrant/worker/juliapro-release-osx1011-0_6/build/tmp_julia/Julia-1.2.app/Contents/Resources/julia/share/julia/stdlib/v1.2/Distributed/src/remotecall.jl:371",
      " [3] #remotecall_fetch#152 at /Users/vagrant/worker/juliapro-release-osx1011-0_6/build/tmp_julia/Julia-1.2.app/Contents/Resources/julia/share/julia/stdlib/v1.2/Distributed/src/remotecall.jl:406 [inlined]",
      " [4] remotecall_fetch at /Users/vagrant/worker/juliapro-release-osx1011-0_6/build/tmp_julia/Julia-1.2.app/Contents/Resources/julia/share/julia/stdlib/v1.2/Distributed/src/remotecall.jl:406 [inlined]",
      " [5] call_on_owner at /Users/vagrant/worker/juliapro-release-osx1011-0_6/build/tmp_julia/Julia-1.2.app/Contents/Resources/julia/share/julia/stdlib/v1.2/Distributed/src/remotecall.jl:479 [inlined]",
      " [6] fetch(::Future) at /Users/vagrant/worker/juliapro-release-osx1011-0_6/build/tmp_julia/Julia-1.2.app/Contents/Resources/julia/share/julia/stdlib/v1.2/Distributed/src/remotecall.jl:518",
      " [7] top-level scope at In[29]:2"
     ]
    }
   ],
   "source": [
    "using Statistics # The Statistics stdlib defines mean\n",
    "fetch(@spawnat 2 mean(rand(100_000)))"
   ]
  },
  {
   "cell_type": "code",
   "execution_count": 30,
   "metadata": {},
   "outputs": [
    {
     "data": {
      "text/plain": [
       "0.5011824602391834"
      ]
     },
     "execution_count": 30,
     "metadata": {},
     "output_type": "execute_result"
    }
   ],
   "source": [
    "@everywhere using Statistics\n",
    "fetch(@spawnat 2 mean(rand(100_000)))"
   ]
  },
  {
   "cell_type": "markdown",
   "metadata": {},
   "source": [
    "# Other ways to structure and/or share data between processes\n",
    "\n",
    "Unlike `@threads`, we no longer have access to the same memory. While this\n",
    "does make expressing some algorithms a little more tricky, the \"default\"\n",
    "is much safer! There isn't any shared state to begin with, so it's harder\n",
    "to write an incorrect algorithm. It's also just harder to write some\n",
    "algorithms in the first place.\n",
    "\n",
    "So there are some special array types that can help bridge the gap between\n",
    "processes and make writing parallel code a bit easier."
   ]
  },
  {
   "cell_type": "markdown",
   "metadata": {},
   "source": [
    "## The `SharedArray`\n",
    "\n",
    "If all workers are on the same physical machine, while they cannot share\n",
    "memory, they do all have shared access to the same hard drive(s)!\n",
    "\n",
    "The `SharedArray` makes use of this fact, allowing concurrent accesses to the\n",
    "same array — somewhat akin to threads default state.\n",
    "\n",
    "This is the prefix definition from the \"thinking in parallel\" course:\n",
    "\n",
    "```\n",
    "using .Threads\n",
    "function prefix_threads!(y, ⊕)\n",
    "    l=length(y)\n",
    "    k=ceil(Int, log2(l))\n",
    "    for j=1:k\n",
    "        @threads for i=2^j:2^j:min(l, 2^k)       #\"reduce\"\n",
    "            @inbounds y[i] = y[i-2^(j-1)] ⊕ y[i]\n",
    "        end\n",
    "    end\n",
    "    for j=(k-1):-1:1\n",
    "        @threads for i=3*2^(j-1):2^j:min(l, 2^k) #\"expand\"\n",
    "            @inbounds y[i] = y[i-2^(j-1)] ⊕ y[i]\n",
    "        end\n",
    "    end\n",
    "    y\n",
    "end\n",
    "```"
   ]
  },
  {
   "cell_type": "code",
   "execution_count": null,
   "metadata": {},
   "outputs": [],
   "source": [
    "using SharedArrays\n",
    "function prefix!(y::SharedArray, ⊕)\n",
    "    l=length(y)\n",
    "    k=ceil(Int, log2(l))\n",
    "    for j=1:k\n",
    "        @distributed for i=2^j:2^j:min(l, 2^k)       #\"reduce\"\n",
    "            @inbounds y[i] = y[i-2^(j-1)] ⊕ y[i]\n",
    "        end\n",
    "    end\n",
    "    for j=(k-1):-1:1\n",
    "        @distributed for i=3*2^(j-1):2^j:min(l, 2^k) #\"expand\"\n",
    "            @inbounds y[i] = y[i-2^(j-1)] ⊕ y[i]\n",
    "        end\n",
    "    end\n",
    "    y\n",
    "end\n",
    "data = rand(1_000_000);\n",
    "A = SharedArray(data);"
   ]
  },
  {
   "cell_type": "code",
   "execution_count": null,
   "metadata": {},
   "outputs": [],
   "source": [
    "prefix!(SharedArray(data), +) # compile\n",
    "@time prefix!(A, +);"
   ]
  },
  {
   "cell_type": "code",
   "execution_count": null,
   "metadata": {},
   "outputs": [],
   "source": [
    "A ≈ cumsum(data)"
   ]
  },
  {
   "cell_type": "markdown",
   "metadata": {},
   "source": [
    "What went wrong?"
   ]
  },
  {
   "cell_type": "code",
   "execution_count": null,
   "metadata": {},
   "outputs": [],
   "source": [
    "function prefix!(y::SharedArray, ⊕)\n",
    "    l=length(y)\n",
    "    k=ceil(Int, log2(l))\n",
    "    for j=1:k\n",
    "        @sync @distributed for i=2^j:2^j:min(l, 2^k)       #\"reduce\"\n",
    "            @inbounds y[i] = y[i-2^(j-1)] ⊕ y[i]\n",
    "        end\n",
    "    end\n",
    "    for j=(k-1):-1:1\n",
    "        @sync @distributed for i=3*2^(j-1):2^j:min(l, 2^k) #\"expand\"\n",
    "            @inbounds y[i] = y[i-2^(j-1)] ⊕ y[i]\n",
    "        end\n",
    "    end\n",
    "    y\n",
    "end\n",
    "A = SharedArray(data)\n",
    "@time prefix!(A, +)"
   ]
  },
  {
   "cell_type": "code",
   "execution_count": null,
   "metadata": {},
   "outputs": [],
   "source": [
    "A ≈ cumsum(data)"
   ]
  },
  {
   "cell_type": "markdown",
   "metadata": {},
   "source": [
    "## DistributedArrays\n",
    "\n",
    "We can, though, turn the problem on its head and allow the _data_ itself\n",
    "to determine how the problem gets split up. This can save us tons of indexing\n",
    "headaches."
   ]
  },
  {
   "cell_type": "code",
   "execution_count": null,
   "metadata": {},
   "outputs": [],
   "source": [
    "@everywhere using Distributed\n",
    "@everywhere using DistributedArrays\n",
    "A = DArray(I->fill(myid(), length.(I)), (24, 24))"
   ]
  },
  {
   "cell_type": "markdown",
   "metadata": {},
   "source": [
    "The first argument takes a function that transforms the given set of indices\n",
    "to the _local portion_ of the distributed array."
   ]
  },
  {
   "cell_type": "code",
   "execution_count": null,
   "metadata": {},
   "outputs": [],
   "source": [
    "A = DArray((24,24)) do I\n",
    "    @show I\n",
    "    fill(myid(), length.(I))\n",
    "end"
   ]
  },
  {
   "cell_type": "markdown",
   "metadata": {},
   "source": [
    "Notice that none of the array actually lives on processor 1, but we can still\n",
    "display the contents — when we do we're requesting all workers give us their\n",
    "current data! While we've only talked about master-worker communcation so far,\n",
    "workers can communicate directly amongst themselves, too (by default)."
   ]
  },
  {
   "cell_type": "code",
   "execution_count": null,
   "metadata": {},
   "outputs": [],
   "source": [
    "@everywhere using BenchmarkTools\n",
    "fetch(@spawnat 2 @benchmark $A[1,1])"
   ]
  },
  {
   "cell_type": "code",
   "execution_count": null,
   "metadata": {},
   "outputs": [],
   "source": [
    "fetch(@spawnat 2 @benchmark $A[end,end])"
   ]
  },
  {
   "cell_type": "markdown",
   "metadata": {},
   "source": [
    "So it's fastest to work on a `DArray`'s \"local\" portion, but it's _possible_\n",
    "to grab other data if need be. This is perfect for any sort of tiled operation\n",
    "that works on neighboring values (like image filtering/convolution). Or Conway's\n",
    "game of life!"
   ]
  },
  {
   "cell_type": "code",
   "execution_count": null,
   "metadata": {},
   "outputs": [],
   "source": [
    "function life_step(d::DArray)\n",
    "    DArray(size(d),procs(d)) do I\n",
    "        # Compute the indices of the outside edge (that will come from other processors)\n",
    "        top   = mod1(first(I[1])-1,size(d,1))\n",
    "        bot   = mod1( last(I[1])+1,size(d,1))\n",
    "        left  = mod1(first(I[2])-1,size(d,2))\n",
    "        right = mod1( last(I[2])+1,size(d,2))\n",
    "        # Create a new, temporary array that holds the local part + outside edge\n",
    "        old = Array{Bool}(undef, length(I[1])+2, length(I[2])+2)\n",
    "        # These accesses will pull data from other processors\n",
    "        old[1      , 1      ] = d[top , left]\n",
    "        old[2:end-1, 1      ] = d[I[1], left]   # left side (and corners)\n",
    "        old[end    , 1      ] = d[bot , left]\n",
    "        old[1      , end    ] = d[top , right]\n",
    "        old[2:end-1, end    ] = d[I[1], right]  # right side (and corners)\n",
    "        old[end    , end    ] = d[bot , right]\n",
    "        old[1      , 2:end-1] = d[top , I[2]]   # top\n",
    "        old[end    , 2:end-1] = d[bot , I[2]]   # bottom\n",
    "        # But this big one is all local!\n",
    "        old[2:end-1, 2:end-1] = d[I[1], I[2]]   # middle\n",
    "\n",
    "        life_rule(old) # Compute the new segment!\n",
    "    end\n",
    "end\n",
    "@everywhere function life_rule(old)\n",
    "    # Now this part — the computational part — is entirely local and on Arrays!\n",
    "    m, n = size(old)\n",
    "    new = similar(old, m-2, n-2)\n",
    "    for j = 2:n-1\n",
    "        @inbounds for i = 2:m-1\n",
    "            nc = (+)(old[i-1,j-1], old[i-1,j], old[i-1,j+1],\n",
    "                     old[i  ,j-1],             old[i  ,j+1],\n",
    "                     old[i+1,j-1], old[i+1,j], old[i+1,j+1])\n",
    "            new[i-1,j-1] = (nc == 3 || nc == 2 && old[i,j])\n",
    "        end\n",
    "    end\n",
    "    new\n",
    "end"
   ]
  },
  {
   "cell_type": "code",
   "execution_count": null,
   "metadata": {},
   "outputs": [],
   "source": [
    "A = DArray(I->rand(Bool, length.(I)), (20,20))\n",
    "using Colors\n",
    "Gray.(A)"
   ]
  },
  {
   "cell_type": "code",
   "execution_count": null,
   "metadata": {},
   "outputs": [],
   "source": [
    "B = copy(A)"
   ]
  },
  {
   "cell_type": "code",
   "execution_count": null,
   "metadata": {},
   "outputs": [],
   "source": [
    "B = Gray.(life_step(B))"
   ]
  },
  {
   "cell_type": "markdown",
   "metadata": {},
   "source": [
    "## Clusters and more ways to distribute\n",
    "\n",
    "You can easily connect to completely separate machines with SSH access built in!\n",
    "But there are many other ways to connect to clusters:\n",
    "\n",
    "* [JuliaRun](https://juliacomputing.com/products/juliarun)\n",
    "* [Kubernetes](https://juliacomputing.com/blog/2018/12/15/kuber.html)\n",
    "* [MPI](https://github.com/JuliaParallel/MPI.jl)\n",
    "* [Cluster job queues with ClusterManagers](https://github.com/JuliaParallel/ClusterManagers.jl)\n",
    "* [Hadoop](https://github.com/JuliaParallel/Elly.jl)\n",
    "* [Spark](https://github.com/dfdx/Spark.jl)"
   ]
  },
  {
   "cell_type": "markdown",
   "metadata": {},
   "source": [
    "# Multi-process parallelism is the heavy-duty workhorse in Julia\n",
    "\n",
    "It can tackle very large problems and distribute across a very large number\n",
    "of workers. Key things to remember\n",
    "\n",
    "* Each worker is a completely independent Julia process\n",
    "    * Data must move to them\n",
    "    * Code must move to them\n",
    "* Structure your algorithms and use a distributed mechanism that fits with the\n",
    "  time and memory parameters of your problem\n",
    "    * `@distributed` can be good for reductions and even relatively fast inner loops with limited (or no) explicit data transfer\n",
    "    * `pmap` is great for very expensive inner loops that return a value\n",
    "    * `SharedArray`s can be an easier drop-in replacement for threading-like behaviors (on a single machine)\n",
    "    * `DistributedArray`s can turn the problem on its head and let the data do the work splitting!"
   ]
  }
 ],
 "metadata": {
  "kernelspec": {
   "display_name": "Julia 1.2.0",
   "language": "julia",
   "name": "julia-1.2"
  },
  "language_info": {
   "file_extension": ".jl",
   "mimetype": "application/julia",
   "name": "julia",
   "version": "1.2.0"
  }
 },
 "nbformat": 4,
 "nbformat_minor": 3
}
